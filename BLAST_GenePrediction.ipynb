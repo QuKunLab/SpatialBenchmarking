{
 "cells": [
  {
   "cell_type": "markdown",
   "metadata": {},
   "source": [
    "### These jupyter can reproduced the results of figure2 in our papers.\n",
    "### you can use these functions we defined to evaluate the performance of each method with 10-X cross-validation.\n",
    "### If you want to use each method to analyse youe own data, please see the Tutorial.ipynb"
   ]
  },
  {
   "cell_type": "markdown",
   "metadata": {},
   "source": [
    "# "
   ]
  },
  {
   "cell_type": "markdown",
   "metadata": {},
   "source": [
    "### Please note: We used raw count as input for predictions in this ipynb !!!\n",
    "\n",
    "### In our manuscripts, we tested four schemes of input expression matrices: \n",
    "### (1) raw expression matrix of spatial data and raw expression matrix of scRNA-seq data (R-R); \n",
    "### (2) normalized expression matrix of spatial data and raw expression matrix of scRNA-seq data (N-R); \n",
    "### (3) raw expression matrix of spatial data and normalized expression matrix of scRNA-seq data (R-N); \n",
    "### (4) normalized expression matrix of spatial data and normalized expression matrix of scRNA-seq data (N-N).\n",
    "\n",
    "### For N-N and N-R input, we calculate the accuracy by comapring the prediction result with normalized matrix of spatial data.\n",
    "### For R-R and R-N input, we calculate the accuracy by comapring the prediction result with raw expression matrix of spatial data."
   ]
  },
  {
   "cell_type": "code",
   "execution_count": 13,
   "metadata": {},
   "outputs": [],
   "source": [
    "import numpy as np\n",
    "import pandas as pd\n",
    "import sys\n",
    "import pickle\n",
    "import os\n",
    "import time as tm\n",
    "from functools import partial\n",
    "import scipy.stats as st\n",
    "from scipy.stats import wasserstein_distance\n",
    "import scipy.stats\n",
    "import copy\n",
    "from sklearn.model_selection import KFold\n",
    "import pandas as pd\n",
    "import multiprocessing\n",
    "import matplotlib as mpl \n",
    "import matplotlib.pyplot as plt\n",
    "import scanpy as sc\n",
    "import warnings\n",
    "warnings.filterwarnings('ignore')\n",
    "\n",
    "from scipy.spatial import distance_matrix\n",
    "from sklearn.metrics import matthews_corrcoef\n",
    "from scipy import stats\n",
    "import seaborn as sns\n",
    "\n",
    "from scipy.spatial.distance import cdist\n",
    "import h5py\n",
    "from scipy.stats import spearmanr\n",
    "\n",
    "import time\n",
    "import sys\n",
    "import tangram as tg\n",
    "from os.path import join\n",
    "from IPython.display import display\n"
   ]
  },
  {
   "cell_type": "code",
   "execution_count": 15,
   "metadata": {},
   "outputs": [],
   "source": [
    "def SpaGE_impute(K):\n",
    "    print ('We run SpaGE for this data\\n')\n",
    "    sys.path.append(\"Extenrnal/SpaGE-master/\")\n",
    "    from SpaGE.main import SpaGE\n",
    "    global RNA_data, Spatial_data, train_gene, predict_gene\n",
    "    RNA_data = RNA_data.loc[(RNA_data.sum(axis=1) != 0)]\n",
    "    RNA_data = RNA_data.loc[(RNA_data.var(axis=1) != 0)]\n",
    "    train = np.array(train_gene[K])\n",
    "    predict = np.array(predict_gene[K])\n",
    "    pv = len(train)/2\n",
    "    Spatial = Spatial_data[train]\n",
    "    Img_Genes = SpaGE(Spatial, RNA_data.T, n_pv = int(pv), genes_to_predict = predict)\n",
    "    result = Img_Genes[predict]\n",
    "    return result\n",
    "\n",
    "def gimVI_impute(K):\n",
    "    print ('We run gimVI for this data\\n')\n",
    "    import scvi\n",
    "    import scanpy as sc\n",
    "    from scvi.model import GIMVI\n",
    "    import torch\n",
    "    from torch.nn.functional import softmax, cosine_similarity, sigmoid\n",
    "    global RNA_data_adata, Spatial_data_adata, train_gene, predict_gene\n",
    "    test_list = np.array(predict_gene[K])\n",
    "    train_list = np.array(train_gene[K])\n",
    "    Genes  = list(Spatial_data_adata.var_names)\n",
    "    rand_gene_idx = [Genes.index(x) for x in test_list]\n",
    "    n_genes = len(Genes)\n",
    "    rand_train_gene_idx = sorted(set(range(n_genes)) - set(rand_gene_idx))\n",
    "    rand_train_genes = np.array(Genes)[rand_train_gene_idx]\n",
    "    rand_genes = np.array(Genes)[rand_gene_idx]\n",
    "    spatial_data_partial = Spatial_data_adata[:, rand_train_genes]\n",
    "    sc.pp.filter_cells(spatial_data_partial, min_counts= 0)\n",
    "    seq_data = copy.deepcopy(RNA_data_adata)\n",
    "    seq_data = seq_data[:, Genes]\n",
    "    sc.pp.filter_cells(seq_data, min_counts = 0)\n",
    "    scvi.data.setup_anndata(spatial_data_partial)\n",
    "    scvi.data.setup_anndata(seq_data)\n",
    "    model = GIMVI(seq_data, spatial_data_partial)\n",
    "    model.train(200)\n",
    "    _, imputation = model.get_imputed_values(normalized = False)\n",
    "    imputed = imputation[:, rand_gene_idx]\n",
    "    result = pd.DataFrame(imputed, columns = rand_genes)\n",
    "    print (test_list ==  rand_genes)\n",
    "    print (train_list ==  rand_train_genes)\n",
    "    return result\n",
    "                       \n",
    "def novoSpaRc_impute(K):\n",
    "    print ('We run novoSpaRc for this data\\n')\n",
    "    import novosparc as nc\n",
    "    global RNA_data, Spatial_data, locations, train_gene, predict_gene\n",
    "    test_list = np.array(predict_gene[K])\n",
    "    train_list = np.array(train_gene[K])\n",
    "    gene_names = np.array(RNA_data.index.values)\n",
    "    dge = RNA_data.values\n",
    "    dge = dge.T\n",
    "    num_cells = dge.shape[0]\n",
    "    print ('number of cells and genes in the matrix:', dge.shape)\n",
    "\n",
    "    hvg = np.argsort(np.divide(np.var(dge, axis = 0),np.mean(dge, axis = 0) + 0.0001))\n",
    "    dge_hvg = dge[:,hvg[-2000:]]\n",
    "\n",
    "    num_locations = locations.shape[0]\n",
    "\n",
    "    p_location, p_expression = nc.rc.create_space_distributions(num_locations, num_cells)\n",
    "    cost_expression, cost_locations = nc.rc.setup_for_OT_reconstruction(dge_hvg,locations,num_neighbors_source = 5,num_neighbors_target = 5)\n",
    "\n",
    "    insitu_matrix = np.array(Spatial_data[train_list])\n",
    "    insitu_genes = np.array(Spatial_data[train_list].columns)\n",
    "    test_genes = np.array(test_list)\n",
    "    test_matrix = np.array(Spatial_data[test_list])\n",
    "\n",
    "    markers_in_sc = np.array([], dtype='int')\n",
    "    for marker in insitu_genes:\n",
    "        marker_index = np.where(gene_names == marker)[0]\n",
    "        if len(marker_index) > 0:\n",
    "            markers_in_sc = np.append(markers_in_sc, marker_index[0])\n",
    "    cost_marker_genes = cdist(dge[:, markers_in_sc]/np.amax(dge[:, markers_in_sc]),insitu_matrix/np.amax(insitu_matrix))\n",
    "    alpha_linear = 0.5\n",
    "    gw = nc.rc._GWadjusted.gromov_wasserstein_adjusted_norm(cost_marker_genes, cost_expression, cost_locations,alpha_linear, p_expression, p_location,'square_loss', epsilon=5e-3, verbose=True)\n",
    "    sdge = np.dot(dge.T, gw)\n",
    "    imputed = pd.DataFrame(sdge,index = RNA_data.index)\n",
    "    result = imputed.loc[test_genes]\n",
    "    result = result.T\n",
    "    return result\n",
    "                       \n",
    "def SpaOTsc_impute(K):\n",
    "    print ('We run SpaOTsc for this data\\n')\n",
    "    from spaotsc import SpaOTsc\n",
    "    global RNA_data, Spatial_data, locations, train_gene, predict_gene\n",
    "    test_list = np.array(predict_gene[K])\n",
    "    train_list = np.array(train_gene[K])\n",
    "    df_sc = RNA_data.T\n",
    "    df_IS = Spatial_data\n",
    "    pts = locations\n",
    "    is_dmat = distance_matrix(pts, pts)\n",
    "    df_is = df_IS.loc[:,train_list]\n",
    "\n",
    "    gene_is = df_is.columns.tolist()\n",
    "    gene_sc = df_sc.columns.tolist()\n",
    "    gene_overloap = list(set(gene_is).intersection(gene_sc))\n",
    "    a = df_is[gene_overloap]\n",
    "    b = df_sc[gene_overloap]\n",
    "\n",
    "    rho, pval = stats.spearmanr(a, b,axis=1)\n",
    "    rho[np.isnan(rho)]=0\n",
    "    mcc=rho[-(len(df_sc)):,0:len(df_is)]\n",
    "    C = np.exp(1 - mcc)\n",
    "    issc = SpaOTsc.spatial_sc(sc_data = df_sc, is_data = df_is, is_dmat = is_dmat)\n",
    "    issc.transport_plan(C**2, alpha = 0, rho = 1.0, epsilon = 0.1, cor_matrix = mcc, scaling = False)\n",
    "    gamma = issc.gamma_mapping\n",
    "    for j in range(gamma.shape[1]):\n",
    "        gamma[:,j] = gamma[:,j]/np.sum(gamma[:,j])\n",
    "    X_pred = np.matmul(gamma.T, np.array(issc.sc_data.values))\n",
    "    result = pd.DataFrame(data = X_pred, columns = issc.sc_data.columns.values)\n",
    "    test_genes = test_list\n",
    "    result = result.loc[:, test_genes]\n",
    "    return result\n",
    "\n",
    "def stPlus_impute(K):\n",
    "    global RNA_data, Spatial_data, outdir, train_gene, predict_gene\n",
    "    test_list = np.array(predict_gene[K])\n",
    "    train_list = np.array(train_gene[K])\n",
    "    save_path_prefix = join(outdir, 'process_file/stPlus-demo')\n",
    "    if not os.path.exists(join(outdir, \"process_file\")):\n",
    "        os.mkdir(join(outdir, \"process_file\"))\n",
    "    stPlus_res = stPlus(Spatial_data[train_list], RNA_data.T, test_list, save_path_prefix)\n",
    "    return stPlus_res\n",
    "                       \n",
    "def Tangram_impute(K, annotate = None, modes = 'clusters', density = 'rna_count_based'):\n",
    "    import torch\n",
    "    from torch.nn.functional import softmax, cosine_similarity, sigmoid\n",
    "    import tangram as tg\n",
    "    print ('We run Tangram for this \\n' + DataDir)\n",
    "    global RNA_data_adata, Spatial_data_adata, locations, train_gene, predict_gene\n",
    "    test_list = predict_gene[K]\n",
    "    test_list = [x.lower() for x in test_list]\n",
    "    train_list = train_gene[K]\n",
    "    train_list = np.array(train_list)\n",
    "    if annotate == None:\n",
    "        RNA_data_adata_label = RNA_data_adata\n",
    "        sc.pp.normalize_total(RNA_data_adata_label)\n",
    "        sc.pp.log1p(RNA_data_adata_label)\n",
    "        sc.pp.highly_variable_genes(RNA_data_adata_label)\n",
    "        RNA_data_adata_label = RNA_data_adata_label[:, RNA_data_adata_label.var.highly_variable]\n",
    "        sc.pp.scale(RNA_data_adata_label, max_value=10)\n",
    "        sc.tl.pca(RNA_data_adata_label)\n",
    "        sc.pp.neighbors(RNA_data_adata_label)\n",
    "        sc.tl.leiden(RNA_data_adata_label, resolution = 0.5)\n",
    "        RNA_data_adata.obs['leiden']  = RNA_data_adata_label.obs.leiden\n",
    "    else:\n",
    "        global CellTypeAnnotate\n",
    "        RNA_data_adata.obs['leiden']  = CellTypeAnnotate\n",
    "    tg.pp_adatas(RNA_data_adata, Spatial_data_adata, genes=train_list)\n",
    "    device = torch.device('cuda:0')\n",
    "    if modes == 'clusters':\n",
    "        ad_map = tg.map_cells_to_space(RNA_data_adata, Spatial_data_adata, device = device, mode = modes, cluster_label = 'leiden', density_prior = density)\n",
    "        ad_ge = tg.project_genes(ad_map, RNA_data_adata, cluster_label = 'leiden')\n",
    "    else:\n",
    "        ad_map = tg.map_cells_to_space(RNA_data_adata, Spatial_data_adata, device = device)\n",
    "        ad_ge = tg.project_genes(ad_map, RNA_data_adata)\n",
    "    test_list = list(set(ad_ge.var_names) & set(test_list))\n",
    "    test_list = np.array(test_list)\n",
    "    pre_gene = pd.DataFrame(ad_ge[:,test_list].X, index=ad_ge[:,test_list].obs_names, columns=ad_ge[:,test_list].var_names)\n",
    "    return pre_gene\n",
    "\n"
   ]
  },
  {
   "cell_type": "markdown",
   "metadata": {},
   "source": [
    "# Data Input"
   ]
  },
  {
   "cell_type": "markdown",
   "metadata": {},
   "source": [
    "# First, you can download Example datasets from our websites "
   ]
  },
  {
   "cell_type": "code",
   "execution_count": 39,
   "metadata": {},
   "outputs": [],
   "source": [
    "\"\"\"\n",
    "@author: wen zhang\n",
    "This function integrates two single-cell datasets, spatial and scRNA-seq, \n",
    "and predictes the expression of the spatially unmeasured genes from the scRNA-seq data.\n",
    "\n",
    "Parameters\n",
    "-------\n",
    "RNA_file : str\n",
    "    scRNA-seq data count file with Tab-delimited (cells X genes).\n",
    "Spatial_file : str\n",
    "    spatial count data file with Tab-delimited, please note that the file has no index.\n",
    "location_file : str\n",
    "    spatial spot coordinate file name with Tab-delimited, please note that the file has no index.\n",
    "device : str\n",
    "    Option,  ['CPU','GPU'], defaults to 'CPU'\n",
    "train_gene : list\n",
    "    genes for integrations, you can support more than one train list.\n",
    "predict_gene : list\n",
    "    genes for prediction, you can support more than one test list.\n",
    "outdir : str\n",
    "    result file stored direction    \n",
    "\"\"\"\n",
    "\n",
    "DataDir = 'DataUpload/Dataset4/'\n",
    "outdir = 'SpatialBenchmarking/FigureData/Figure2/Dataset4/'\n",
    "RNA_file = DataDir + 'scRNA_count.txt'\n",
    "Spatial_file = DataDir + 'Insitu_count.txt'\n",
    "location_file = DataDir + 'Locations.txt'\n",
    "\n",
    "RNA_data = pd.read_table(RNA_file, header=0, index_col = 0)\n",
    "Spatial_data = pd.read_table(Spatial_file, sep = '\\t',header = 0)\n",
    "RNA_data_adata = sc.read(RNA_file, sep = '\\t', first_column_names = True).T\n",
    "Spatial_data_adata = sc.read(Spatial_file, sep = '\\t')\n",
    "locations = np.loadtxt(location_file, skiprows=1)\n",
    "\n",
    "train_gene = np.load(DataDir + 'train_list.npy', allow_pickle = True).tolist()\n",
    "predict_gene = np.load(DataDir + 'test_list.npy', allow_pickle = True).tolist()\n",
    "\n",
    "device = 'GPU'\n",
    "if not os.path.exists(outdir):\n",
    "    os.mkdir(outdir)\n",
    "\n",
    "\n"
   ]
  },
  {
   "cell_type": "markdown",
   "metadata": {},
   "source": [
    "# Predicting undetected transcripts by each method"
   ]
  },
  {
   "cell_type": "code",
   "execution_count": 40,
   "metadata": {},
   "outputs": [
    {
     "name": "stdout",
     "output_type": "stream",
     "text": [
      "We run SpaGE for this data\n",
      "We run SpaGE for this data\n",
      "We run SpaGE for this data\n",
      "We run SpaGE for this data\n",
      "We run SpaGE for this data\n",
      "We run SpaGE for this data\n",
      "We run SpaGE for this data\n",
      "We run SpaGE for this data\n",
      "We run SpaGE for this data\n",
      "We run SpaGE for this data\n",
      "\n",
      "\n",
      "\n",
      "\n",
      "\n",
      "\n",
      "\n",
      "\n",
      "\n",
      "\n"
     ]
    }
   ],
   "source": [
    "KFOLD = list(range(len(train_gene)))\n",
    "with multiprocessing.Pool(10) as pool:\n",
    "    result = pd.concat(pool.map(SpaGE_impute, KFOLD), axis = 1)\n",
    "result.to_csv(outdir + \"/SpaGE_impute.csv\", header = 1, index = 1)\n"
   ]
  },
  {
   "cell_type": "code",
   "execution_count": 35,
   "metadata": {},
   "outputs": [
    {
     "name": "stdout",
     "output_type": "stream",
     "text": [
      "We run SpaOTsc for this data\n",
      "We run SpaOTsc for this data\n",
      "We run SpaOTsc for this data\n",
      "We run SpaOTsc for this data\n",
      "\n",
      "\n",
      "\n",
      "\n",
      "We run SpaOTsc for this data\n",
      "We run SpaOTsc for this data\n",
      "We run SpaOTsc for this data\n",
      "We run SpaOTsc for this data\n",
      "We run SpaOTsc for this data\n",
      "We run SpaOTsc for this data\n",
      "\n",
      "\n",
      "\n",
      "\n",
      "\n",
      "\n"
     ]
    }
   ],
   "source": [
    "KFOLD = list(range(len(train_gene)))\n",
    "with multiprocessing.Pool(10) as pool:\n",
    "    result = pd.concat(pool.map(SpaOTsc_impute, KFOLD), axis = 1)\n",
    "result.to_csv(outdir + \"/SpaOTsc_impute.csv\", header = 1, index = 1)\n"
   ]
  },
  {
   "cell_type": "code",
   "execution_count": 36,
   "metadata": {},
   "outputs": [
    {
     "name": "stdout",
     "output_type": "stream",
     "text": [
      "We run novoSpaRc for this data\n",
      "We run novoSpaRc for this data\n",
      "We run novoSpaRc for this data\n",
      "We run novoSpaRc for this data\n",
      "We run novoSpaRc for this data\n",
      "We run novoSpaRc for this data\n",
      "We run novoSpaRc for this data\n",
      "We run novoSpaRc for this data\n",
      "We run novoSpaRc for this data\n",
      "We run novoSpaRc for this data\n",
      "\n",
      "\n",
      "\n",
      "\n",
      "\n",
      "\n",
      "\n",
      "\n",
      "\n",
      "\n",
      "number of cells and genes in the matrix: (14249, 34041)\n",
      "number of cells and genes in the matrix:number of cells and genes in the matrix:number of cells and genes in the matrix:number of cells and genes in the matrix:number of cells and genes in the matrix:number of cells and genes in the matrix:number of cells and genes in the matrix:number of cells and genes in the matrix:number of cells and genes in the matrix:       (14249, 34041)(14249, 34041) (14249, 34041) (14249, 34041)(14249, 34041)(14249, 34041)(14249, 34041)\n",
      "\n",
      "(14249, 34041)(14249, 34041)\n",
      "\n",
      "\n",
      "\n",
      "\n",
      "\n",
      "\n",
      "Setting up for reconstruction ... Setting up for reconstruction ... Setting up for reconstruction ... Setting up for reconstruction ... Setting up for reconstruction ... Setting up for reconstruction ... Setting up for reconstruction ... Setting up for reconstruction ... Setting up for reconstruction ... Setting up for reconstruction ... done (done (  612.09611.75  seconds )seconds )\n",
      "\n",
      "done ( 620.26 seconds )\n",
      "done ( 619.93 seconds )\n",
      "done ( 620.8 seconds )\n",
      "done ( 620.93 seconds )\n",
      "done ( 621.16 seconds )\n",
      "done ( 624.52 seconds )\n",
      "done ( 625.26 seconds )\n",
      "done ( 630.45 seconds )\n",
      "It.  |Err         \n",
      "-------------------\n",
      "    0|1.814710e-04|\n",
      "It.  |Err         \n",
      "-------------------\n",
      "    0|4.269427e-04|\n",
      "It.  |Err         \n",
      "-------------------\n",
      "    0|4.290345e-04|\n",
      "It.  |Err         \n",
      "-------------------\n",
      "    0|4.283379e-04|\n",
      "It.  |Err         \n",
      "-------------------\n",
      "    0|4.292212e-04|\n",
      "It.  |Err         \n",
      "-------------------\n",
      "    0|4.231047e-04|\n",
      "It.  |Err         \n",
      "-------------------\n",
      "    0|4.264612e-04|\n",
      "It.  |Err         \n",
      "-------------------\n",
      "    0|4.229334e-04|\n",
      "It.  |Err         \n",
      "-------------------\n",
      "    0|4.226364e-04|\n",
      "It.  |Err         \n",
      "-------------------\n",
      "    0|4.278680e-04|\n"
     ]
    }
   ],
   "source": [
    "KFOLD = list(range(len(train_gene)))\n",
    "with multiprocessing.Pool(10) as pool:\n",
    "    result = pd.concat(pool.map(novoSpaRc_impute, KFOLD), axis = 1)\n",
    "result.to_csv(outdir + \"/novoSpaRc_impute.csv\", header = 1, index = 1)\n"
   ]
  },
  {
   "cell_type": "markdown",
   "metadata": {},
   "source": [
    "# GPU Platform gimVI, Tangram, and stPlus"
   ]
  },
  {
   "cell_type": "code",
   "execution_count": null,
   "metadata": {},
   "outputs": [],
   "source": [
    "KFOLD = list(range(len(train_gene)))\n",
    "with multiprocessing.Pool(10) as pool:\n",
    "    result = pd.concat(pool.map(gimVI_impute, KFOLD), axis = 1)\n",
    "result.to_csv(outdir + \"/gimVI_impute.csv\", header = 1, index = 1)\n",
    "\n",
    "KFOLD = list(range(len(train_gene)))\n",
    "with multiprocessing.Pool(10) as pool:\n",
    "    result = pd.concat(pool.map(Tangram_impute, KFOLD), axis = 1)\n",
    "result.to_csv(outdir + \"/Tangram_impute.csv\", header = 1, index = 1)\n",
    "\n",
    "from stPlus import *\n",
    "KFOLD = list(range(len(train_gene)))\n",
    "result = pd.DataFrame()\n",
    "for n in KFOLD:\n",
    "    tmp = stPlus_impute(n)\n",
    "    result = pd.concat([result, tmp], axis=1)\n",
    "result.to_csv(outdir +  '/stPlus_impute.csv',header = 1, index = 1)\n"
   ]
  },
  {
   "cell_type": "markdown",
   "metadata": {},
   "source": [
    "# Seurat impute file process"
   ]
  },
  {
   "cell_type": "code",
   "execution_count": null,
   "metadata": {},
   "outputs": [],
   "source": [
    "input_path = 'DataUpload/Dataset4/'\n",
    "output_path = 'SpatialBenchmarking/FigureData/Figure2/Dataset4/'\n",
    "os.system('Rscript SpatialBenchmarking/FigureData/Figure2/RCodes/Seurat.r ' + input_path + ' ' + output_path)\n",
    "\n",
    "PATH = 'SpatialBenchmarking/FigureData/Figure2/Dataset4/'\n",
    "DataSets = ['Dataset4']\n",
    "for Data in DataSets:\n",
    "    impute_count_file = PATH + Data + '/Seurat_impute.csv'\n",
    "    if os.path.exists(impute_count_file):\n",
    "        df = pd.read_csv(impute_count_file, header = 0, index_col = 0)\n",
    "        if df.index[0] == 0:\n",
    "            A = df\n",
    "            continue\n",
    "        print (impute_count_file)\n",
    "        Index = [(int(x)-1) for x in df.index]\n",
    "        Index = sorted(Index)\n",
    "        df.index = Index\n",
    "        B = df\n",
    "        df.to_csv(impute_count_file)\n",
    "    else:\n",
    "        print ('This outdir is none for Seurat : ' + PATH + Data)\n"
   ]
  },
  {
   "cell_type": "markdown",
   "metadata": {},
   "source": [
    "# LIGER impute file process"
   ]
  },
  {
   "cell_type": "code",
   "execution_count": null,
   "metadata": {},
   "outputs": [],
   "source": [
    "input_path = 'DataUpload/Dataset4/'\n",
    "output_path = 'SpatialBenchmarking/FigureData/Figure2/Dataset4/'\n",
    "os.system('Rscript SpatialBenchmarking/FigureData/Figure2/RCodes/LIGER.r ' + input_path + ' ' + output_path)\n",
    "\n",
    "PATH = 'SpatialBenchmarking/FigureData/Figure2/Dataset4/'\n",
    "DataSets = ['Dataset4']\n",
    "for Data in DataSets:\n",
    "    impute_count_file = PATH + Data + '/LIGER_impute.csv'\n",
    "    if os.path.exists(impute_count_file):\n",
    "        df = pd.read_csv(impute_count_file, header = 0, index_col = 0)\n",
    "        if df.index[0] == 0:\n",
    "            A = df\n",
    "            continue\n",
    "        print (impute_count_file)\n",
    "        Index = [(int(x.replace('V', '')) -1) for x in df.index]\n",
    "        Index = sorted(Index)\n",
    "        df.index = Index\n",
    "        B = df\n",
    "        df.to_csv(impute_count_file)\n",
    "    else:\n",
    "        print ('This outdir is none for LIGER : ' + PATH + Data)\n",
    "        \n"
   ]
  },
  {
   "cell_type": "code",
   "execution_count": null,
   "metadata": {},
   "outputs": [],
   "source": []
  },
  {
   "cell_type": "code",
   "execution_count": null,
   "metadata": {},
   "outputs": [],
   "source": []
  },
  {
   "cell_type": "code",
   "execution_count": null,
   "metadata": {},
   "outputs": [],
   "source": []
  },
  {
   "cell_type": "markdown",
   "metadata": {},
   "source": [
    "# Calculated Metrics"
   ]
  },
  {
   "cell_type": "code",
   "execution_count": 21,
   "metadata": {},
   "outputs": [],
   "source": [
    "def cal_ssim(im1,im2,M):\n",
    "    assert len(im1.shape) == 2 and len(im2.shape) == 2\n",
    "    assert im1.shape == im2.shape\n",
    "    mu1 = im1.mean()\n",
    "    mu2 = im2.mean()\n",
    "    sigma1 = np.sqrt(((im1 - mu1) ** 2).mean())\n",
    "    sigma2 = np.sqrt(((im2 - mu2) ** 2).mean())\n",
    "    sigma12 = ((im1 - mu1) * (im2 - mu2)).mean()\n",
    "    k1, k2, L = 0.01, 0.03, M\n",
    "    C1 = (k1*L) ** 2\n",
    "    C2 = (k2*L) ** 2\n",
    "    C3 = C2/2\n",
    "    l12 = (2*mu1*mu2 + C1)/(mu1 ** 2 + mu2 ** 2 + C1)\n",
    "    c12 = (2*sigma1*sigma2 + C2)/(sigma1 ** 2 + sigma2 ** 2 + C2)\n",
    "    s12 = (sigma12 + C3)/(sigma1*sigma2 + C3)\n",
    "    ssim = l12 * c12 * s12\n",
    "    \n",
    "    return ssim\n",
    "\n",
    "def scale_max(df):\n",
    "    result = pd.DataFrame()\n",
    "    for label, content in df.items():\n",
    "        content = content/content.max()\n",
    "        result = pd.concat([result, content],axis=1)\n",
    "    return result\n",
    "\n",
    "def scale_z_score(df):\n",
    "    result = pd.DataFrame()\n",
    "    for label, content in df.items():\n",
    "        content = st.zscore(content)\n",
    "        content = pd.DataFrame(content,columns=[label])\n",
    "        result = pd.concat([result, content],axis=1)\n",
    "    return result\n",
    "\n",
    "\n",
    "def scale_plus(df):\n",
    "    result = pd.DataFrame()\n",
    "    for label, content in df.items():\n",
    "        content = content/content.sum()\n",
    "        result = pd.concat([result,content],axis=1)\n",
    "    return result\n",
    "\n",
    "def logNorm(df):\n",
    "    df = np.log1p(df)\n",
    "    df = st.zscore(df)\n",
    "    return df\n",
    "    \n",
    "class CalculateMeteics:\n",
    "    def __init__(self, raw_count_file, impute_count_file, prefix, metric):\n",
    "        self.impute_count_file = impute_count_file\n",
    "        self.raw_count = pd.read_csv(raw_count_file, header = 0, sep=\"\\t\")\n",
    "        self.raw_count.columns = [x.upper() for x in self.raw_count.columns]\n",
    "        self.raw_count = self.raw_count.T\n",
    "        self.raw_count = self.raw_count.loc[~self.raw_count.index.duplicated(keep='first')].T\n",
    "        self.raw_count = self.raw_count.fillna(1e-20)\n",
    "        \n",
    "        self.impute_count = pd.read_csv(impute_count_file, header = 0, index_col = 0)\n",
    "        self.impute_count.columns = [x.upper() for x in self.impute_count.columns]\n",
    "        self.impute_count = self.impute_count.T\n",
    "        self.impute_count = self.impute_count.loc[~self.impute_count.index.duplicated(keep='first')].T\n",
    "        self.impute_count = self.impute_count.fillna(1e-20)\n",
    "        self.prefix = prefix\n",
    "        self.metric = metric\n",
    "        \n",
    "    def SSIM(self, raw, impute, scale = 'scale_max'):\n",
    "        if scale == 'scale_max':\n",
    "            raw = scale_max(raw)\n",
    "            impute = scale_max(impute)\n",
    "        else:\n",
    "            print ('Please note you do not scale data by scale max')\n",
    "        if raw.shape[0] == impute.shape[0]:\n",
    "            result = pd.DataFrame()\n",
    "            for label in raw.columns:\n",
    "                if label not in impute.columns:\n",
    "                    ssim = 0\n",
    "                else:\n",
    "                    raw_col =  raw.loc[:,label]\n",
    "                    impute_col = impute.loc[:,label]\n",
    "                    impute_col = impute_col.fillna(1e-20)\n",
    "                    raw_col = raw_col.fillna(1e-20)\n",
    "                    M = [raw_col.max(),impute_col.max()][raw_col.max()>impute_col.max()]\n",
    "                    raw_col_2 = np.array(raw_col)\n",
    "                    raw_col_2 = raw_col_2.reshape(raw_col_2.shape[0],1)\n",
    "                    impute_col_2 = np.array(impute_col)\n",
    "                    impute_col_2 = impute_col_2.reshape(impute_col_2.shape[0],1)\n",
    "                    ssim = cal_ssim(raw_col_2,impute_col_2,M)\n",
    "                \n",
    "                ssim_df = pd.DataFrame(ssim, index=[\"SSIM\"],columns=[label])\n",
    "                result = pd.concat([result, ssim_df],axis=1)\n",
    "        else:\n",
    "            print(\"columns error\")\n",
    "        return result\n",
    "            \n",
    "    def PCC(self, raw, impute, scale = None):\n",
    "        if raw.shape[0] == impute.shape[0]:\n",
    "            result = pd.DataFrame()\n",
    "            for label in raw.columns:\n",
    "                if label not in impute.columns:\n",
    "                    pearsonr = 0\n",
    "                else:\n",
    "                    raw_col =  raw.loc[:,label]\n",
    "                    impute_col = impute.loc[:,label]\n",
    "                    impute_col = impute_col.fillna(1e-20)\n",
    "                    raw_col = raw_col.fillna(1e-20)\n",
    "                    pearsonr, _ = st.pearsonr(raw_col,impute_col)\n",
    "                pearson_df = pd.DataFrame(pearsonr, index=[\"PCC\"],columns=[label])\n",
    "                result = pd.concat([result, pearson_df],axis=1)\n",
    "        else:\n",
    "            print(\"columns error\")\n",
    "        return result\n",
    "    \n",
    "    def JS(self, raw, impute, scale = 'scale_plus'):\n",
    "        if scale == 'scale_plus':\n",
    "            raw = scale_plus(raw)\n",
    "            impute = scale_plus(impute)\n",
    "        else:\n",
    "            print ('Please note you do not scale data by plus')    \n",
    "        if raw.shape[0] == impute.shape[0]:\n",
    "            result = pd.DataFrame()\n",
    "            for label in raw.columns:\n",
    "                if label not in impute.columns:\n",
    "                    JS = 1\n",
    "                else:\n",
    "                    raw_col =  raw.loc[:,label]\n",
    "                    impute_col = impute.loc[:,label]\n",
    "                    raw_col = raw_col.fillna(1e-20)\n",
    "                    impute_col = impute_col.fillna(1e-20)\n",
    "                    M = (raw_col + impute_col)/2\n",
    "                    JS = 0.5*st.entropy(raw_col,M)+0.5*st.entropy(impute_col,M)\n",
    "                JS_df = pd.DataFrame(JS, index=[\"JS\"],columns=[label])\n",
    "                result = pd.concat([result, JS_df],axis=1)\n",
    "        else:\n",
    "            print(\"columns error\")\n",
    "        return result\n",
    "    \n",
    "    def RMSE(self, raw, impute, scale = 'zscore'):\n",
    "        if scale == 'zscore':\n",
    "            raw = scale_z_score(raw)\n",
    "            impute = scale_z_score(impute)\n",
    "        else:\n",
    "            print ('Please note you do not scale data by zscore')\n",
    "        if raw.shape[0] == impute.shape[0]:\n",
    "            result = pd.DataFrame()\n",
    "            for label in raw.columns:\n",
    "                if label not in impute.columns:\n",
    "                    RMSE = 1.5   \n",
    "                else:\n",
    "                    raw_col =  raw.loc[:,label]\n",
    "                    impute_col = impute.loc[:,label]\n",
    "                    impute_col = impute_col.fillna(1e-20)\n",
    "                    raw_col = raw_col.fillna(1e-20)\n",
    "                    RMSE = np.sqrt(((raw_col - impute_col) ** 2).mean())\n",
    "\n",
    "                RMSE_df = pd.DataFrame(RMSE, index=[\"RMSE\"],columns=[label])\n",
    "                result = pd.concat([result, RMSE_df],axis=1)\n",
    "        else:\n",
    "            print(\"columns error\")\n",
    "        return result       \n",
    "        \n",
    "    def compute_all(self):\n",
    "        raw = self.raw_count\n",
    "        impute = self.impute_count\n",
    "        prefix = self.prefix\n",
    "        SSIM = self.SSIM(raw,impute)\n",
    "        Pearson = self.PCC(raw, impute)\n",
    "        JS = self.JS(raw, impute)\n",
    "        RMSE = self.RMSE(raw, impute)\n",
    "        \n",
    "        result_all = pd.concat([Pearson, SSIM, RMSE, JS],axis=0)\n",
    "        result_all.T.to_csv(prefix + \"_Metrics.txt\", sep='\\t', header = 1, index = 1)\n",
    "        self.accuracy = result_all\n",
    "        return result_all\n"
   ]
  },
  {
   "cell_type": "code",
   "execution_count": 22,
   "metadata": {},
   "outputs": [],
   "source": [
    "import seaborn as sns\n",
    "import os\n",
    "PATH = 'FigureData/Figure2/'\n",
    "DirFiles = os.listdir(PATH)\n",
    "CountInsuteDir = 'DataUpload/'\n",
    "\n",
    "def CalDataMetric(Data):\n",
    "    print ('We are calculating the : ' + Data + '\\n')\n",
    "    raw_count_file = CountInsuteDir + Data + '/Insitu_count.txt'\n",
    "    metric = ['PCC','SSIM','RMSE','JS']\n",
    "    impute_count_dir = PATH + Data\n",
    "    impute_count = os.listdir(impute_count_dir)\n",
    "    impute_count = [x for x in impute_count if x [-3:] == 'csv']\n",
    "    if len(impute_count)!=0:\n",
    "        for impute_count_file in impute_count:\n",
    "            if 'result_Tangram.csv' in impute_count_file:\n",
    "                os.system('mv ' + impute_count_dir + '/result_Tangram.csv ' + impute_count_dir + '/Tangram_impute.csv')\n",
    "            prefix = impute_count_file.split('_')[0]\n",
    "            prefix = impute_count_dir + '/' + prefix\n",
    "            impute_count_file = impute_count_dir + '/' + impute_count_file\n",
    "            if not os.path.isfile(prefix + '_Metrics.txt'):\n",
    "                print (impute_count_file)\n",
    "                CM = CalculateMeteics(raw_count_file = raw_count_file, impute_count_file = impute_count_file, prefix = prefix, metric = metric)\n",
    "                CM.compute_all()\n"
   ]
  },
  {
   "cell_type": "code",
   "execution_count": 23,
   "metadata": {},
   "outputs": [
    {
     "name": "stdout",
     "output_type": "stream",
     "text": [
      "We are calculating the : Dataset4\n",
      "\n"
     ]
    }
   ],
   "source": [
    "DataSets = ['Dataset4']\n",
    "with multiprocessing.Pool(10) as pool:\n",
    "    pool.map(CalDataMetric, DataSets)\n",
    "    "
   ]
  },
  {
   "cell_type": "markdown",
   "metadata": {},
   "source": [
    "# DataSet Boxplot for 4 mertrics"
   ]
  },
  {
   "cell_type": "code",
   "execution_count": 2,
   "metadata": {},
   "outputs": [],
   "source": [
    "def plot_boxplot(PATH,Data,metric,Tools,outdir):\n",
    "    palette = [\"#F5A8C7\", '#F9EC31', \"#D6DE23\", \"#988DC3\", \"#BBA8D1\", \"#A2CBCF\", \"#7BD1F1\", \"#79c06e\"]\n",
    "    font = {'family':'DejaVu Sans','weight':'normal','size':15}\n",
    "    plt.figure(figsize=(18,16), dpi= 80)\n",
    "    result = pd.DataFrame()\n",
    "    metrics = metric\n",
    "    for tool in Tools:\n",
    "        result_metrics = pd.read_csv(PATH + Data + '/' + tool + '_Metrics.txt', sep = '\\t', header = 0, index_col = 0)\n",
    "        result_metrics['tool'] = tool\n",
    "        result = pd.concat([result, result_metrics],axis=0) \n",
    "    n = 221\n",
    "    for method in metrics:\n",
    "        ax1 = plt.subplot(n)\n",
    "        ax1 = sns.barplot(x = method, y = \"tool\", data = result, ci = 95, palette = palette)\n",
    "        ax1.set_xlabel(method)\n",
    "        ax1.spines['top'].set_visible(False)\n",
    "        ax1.spines['right'].set_visible(False)\n",
    "        n = n + 1 \n",
    "\n",
    "    OutPdf = outdir\n",
    "    if not os.path.exists(OutPdf):\n",
    "        os.mkdir(OutPdf)\n",
    "    plt.savefig(OutPdf + Data + \"_metrics.pdf\")\n",
    "    plt.show()\n"
   ]
  },
  {
   "cell_type": "code",
   "execution_count": 3,
   "metadata": {},
   "outputs": [
    {
     "data": {
      "image/png": "[encoded data removed]",
      "text/plain": [
       "<Figure size 1440x1280 with 4 Axes>"
      ]
     },
     "metadata": {
      "needs_background": "light"
     },
     "output_type": "display_data"
    }
   ],
   "source": [
    "import seaborn as sns\n",
    "PATH = 'FigureData/Figure2/'\n",
    "metric = ['PCC', 'SSIM', 'JS', 'RMSE']\n",
    "Data = 'Dataset4'\n",
    "Tools = ['Tangram', 'gimVI', 'SpaGE', 'Seurat', 'SpaOTsc', 'novoSpaRc', 'LIGER', 'stPlus']\n",
    "outdir = 'FigureData/Figure2/Dataset4/'\n",
    "if not os.path.exists(outdir):\n",
    "    os.system('mkdir ' + outdir)\n",
    "plot_boxplot(PATH, Data, metric,Tools,outdir)\n",
    "\n",
    "\n"
   ]
  },
  {
   "cell_type": "markdown",
   "metadata": {},
   "source": [
    "# Calculated Accuracy score for every datasets of each methods"
   ]
  },
  {
   "cell_type": "code",
   "execution_count": 14,
   "metadata": {},
   "outputs": [
    {
     "name": "stdout",
     "output_type": "stream",
     "text": [
      "45\n"
     ]
    }
   ],
   "source": [
    "###This script is used for rank get the rank score for each method\n",
    "\n",
    "def get_score(Result):\n",
    "    Result = Result.fillna(0)\n",
    "    tools_num = Result.shape[0]\n",
    "    Tools_score=[]\n",
    "    methods = list(Result.index)\n",
    "    score_col = []\n",
    "    list_up = list(range(1,Result.shape[1]+1))\n",
    "    list_down  = list(range(Result.shape[1],0,-1))\n",
    "    \n",
    "    for method in methods:\n",
    "        if method == 'PCC' or method == 'SSIM':\n",
    "            Tools_score.append(pd.Series(list_down, index=Result.loc[method,:].sort_values(ascending=False).index))\n",
    "            \n",
    "        if method == 'JS' or method == 'RMSE':\n",
    "            Tools_score.append(pd.Series(list_up, index=Result.loc[method,:].sort_values(ascending=False).index))\n",
    "        score_col.append(method)\n",
    "        \n",
    "    score=pd.concat([m for m in Tools_score],axis=1)\n",
    "    score.columns = score_col\n",
    "    score = score/Result.shape[1]\n",
    "    return score\n",
    "\n",
    "def make_score(path, dataset_all, Tools, path_output):\n",
    "    Tools_data=[x for x in range(len(Tools))]\n",
    "    for dataset in dataset_all:\n",
    "        for i in range(len(Tools)):\n",
    "            File = path + '/' + dataset + '/' + Tools[i] + '_Metrics.txt'\n",
    "            if os.path.isfile(File): \n",
    "                Tools_data[i] = pd.read_table(path + '/' + dataset + '/' + Tools[i] + '_Metrics.txt',sep='\\t',index_col=0, header=0)\n",
    "                Tools_data[i] = Tools_data[i].mean()\n",
    "                Tools_data[i]['Tool'] = Tools[i]\n",
    "            else:\n",
    "                Tools_data[i] = pd.DataFrame([-2, -2, 10, 10], columns = ['Genes'], index = ['PCC', 'SSIM', 'RMSE', 'JS']).T\n",
    "                Tools_data[i] = Tools_data[i].mean()\n",
    "                Tools_data[i]['Tool'] = Tools[i]\n",
    "        Result=pd.concat([m for m in Tools_data], axis=1)\n",
    "        Result.columns = Result.loc[[\"Tool\"],:].values.flatten()\n",
    "        Result.drop('Tool', axis = 0, inplace = True)    \n",
    "            \n",
    "        score = get_score(Result)\n",
    "        score.to_csv(path_output + dataset + \"_score.txt\", header=1, index=1)\n",
    "\n",
    "path = 'FigureData/Figure2/Metrics/'\n",
    "path_output = 'FigureData/Figure2/Metrics/Accuracy_Rank/'\n",
    "if not os.path.exists(path_output):\n",
    "    os.mkdir(path_output)\n",
    "Tools = ['Tangram', 'gimVI', 'SpaGE', 'Seurat', 'SpaOTsc', 'novoSpaRc', 'LIGER', 'stPlus']\n",
    "DirFiles = os.listdir(path)\n",
    "dataset_all = [x for x in DirFiles if x[:4] == 'Data']\n",
    "print (len(dataset_all))\n",
    "make_score(path, dataset_all, Tools, path_output)\n",
    "\n"
   ]
  },
  {
   "cell_type": "markdown",
   "metadata": {},
   "source": [
    "# Accuracy for one datasets"
   ]
  },
  {
   "cell_type": "code",
   "execution_count": 10,
   "metadata": {},
   "outputs": [
    {
     "data": {
      "image/png": "[encoded data removed]",
      "text/plain": [
       "<Figure size 432x288 with 1 Axes>"
      ]
     },
     "metadata": {
      "needs_background": "light"
     },
     "output_type": "display_data"
    },
    {
     "data": {
      "image/png": "[encoded data removed]",
      "text/plain": [
       "<Figure size 432x288 with 1 Axes>"
      ]
     },
     "metadata": {
      "needs_background": "light"
     },
     "output_type": "display_data"
    }
   ],
   "source": [
    "def make_plot_one_dataset(path, Data,order,palette):\n",
    "    dataset = pd.read_csv(path + '/Accuracy_Rank/' + Data + '_score.txt', header = 0, index_col = 0)\n",
    "\n",
    "    dataset_mer = pd.concat([dataset.iloc[:,0],dataset.iloc[:,1],dataset.iloc[:,2],dataset.iloc[:,3]], axis = 0)\n",
    "    dataset_mer  = pd.DataFrame(dataset_mer,index =dataset_mer.index.values,columns=[Data])\n",
    "    axes =sns.violinplot(x = Data,y = dataset_mer.index.values, data = dataset_mer ,order = order,palette = palette, width = 0.9)\n",
    "    axes.set_xlabel(Data, fontsize = 10)\n",
    "    axes.set_ylabel('', fontsize = 10)\n",
    "    axes.spines['top'].set_visible(False)\n",
    "    axes.spines['right'].set_visible(False)\n",
    "    plt.xticks(fontsize = 8)\n",
    "    plt.yticks(fontsize = 8)\n",
    "    plt.savefig(path + 'Accuracy_Rank/'+ Data + '_violinplot.pdf')\n",
    "    plt.show()\n",
    "\n",
    "    \n",
    "path = 'FigureData/Figure2/Metrics/'\n",
    "dataset='Data4'\n",
    "order = ['Tangram', 'gimVI', 'SpaGE', 'Seurat', 'SpaOTsc', 'novoSpaRc', 'LIGER', 'stPlus']\n",
    "palette = [\"#F5A8C7\", '#F9EC31', \"#D6DE23\", \"#988DC3\", \"#BBA8D1\", \"#A2CBCF\", \"#7BD1F1\", \"#79c06e\"]\n",
    "make_plot_one_dataset(path, dataset,order,palette)\n",
    "\n",
    "path = 'FigureData/Figure2/Metrics/'\n",
    "dataset='Data42'\n",
    "order = ['Tangram', 'gimVI', 'SpaGE', 'Seurat', 'SpaOTsc', 'novoSpaRc', 'LIGER', 'stPlus']\n",
    "palette = [\"#F5A8C7\", '#F9EC31', \"#D6DE23\", \"#988DC3\", \"#BBA8D1\", \"#A2CBCF\", \"#7BD1F1\", \"#79c06e\"]\n",
    "make_plot_one_dataset(path, dataset,order,palette)\n"
   ]
  },
  {
   "cell_type": "markdown",
   "metadata": {},
   "source": [
    "# Accuracy for image, seq based"
   ]
  },
  {
   "cell_type": "code",
   "execution_count": 15,
   "metadata": {},
   "outputs": [
    {
     "name": "stdout",
     "output_type": "stream",
     "text": [
      "45\n",
      "28\n",
      "17\n"
     ]
    },
    {
     "data": {
      "image/png": "[encoded data removed]",
      "text/plain": [
       "<Figure size 576x432 with 1 Axes>"
      ]
     },
     "metadata": {
      "needs_background": "light"
     },
     "output_type": "display_data"
    },
    {
     "data": {
      "image/png": "[encoded data removed]",
      "text/plain": [
       "<Figure size 576x432 with 1 Axes>"
      ]
     },
     "metadata": {
      "needs_background": "light"
     },
     "output_type": "display_data"
    }
   ],
   "source": [
    "def make_all_score(path, dataset_all):\n",
    "    score_all = pd.DataFrame()\n",
    "    for dataset in dataset_all:\n",
    "        a = pd.read_csv(path + '/Accuracy_Rank/'+dataset+\"_score.txt\",header=0,index_col=0)\n",
    "        a['DataSet'] = dataset\n",
    "        score_all=pd.concat([score_all,a],axis=0)\n",
    "    return score_all\n",
    "\n",
    "\n",
    "def plot_all(df, name, order, palette, path):\n",
    "    df = df[['PCC', 'SSIM', 'RMSE', 'JS']]\n",
    "    df_all = pd.DataFrame(df.sum(axis=1).values,index = df.index.values,columns=['merge'])\n",
    "    df_all = df_all/4\n",
    "    \n",
    "    plt.figure(figsize=(8, 6))\n",
    "    axes =sns.boxplot(x= 'merge',y= df_all.index.values, data=df_all ,palette=palette,order=order,flierprops = dict(marker='o', markersize=3))\n",
    "    axes.set_xlabel(name, fontsize=10)\n",
    "    axes.set_ylabel('', fontsize=10)\n",
    "    axes.spines['top'].set_visible(False)\n",
    "    axes.spines['right'].set_visible(False)\n",
    "    plt.xticks(fontsize=8)\n",
    "    plt.yticks(fontsize=8)\n",
    "    plt.savefig(path + \"/Accuracy_Rank/\" + name + '_boxplot.pdf')\n",
    "    plt.show()\n",
    "\n",
    "path = 'FigureData/Figure2/Metrics/'\n",
    "os.popen('mkdir ' + path + 'Accuracy_Rank')\n",
    "path_output = path + '/Accuracy_Rank/'\n",
    "order = ['Tangram', 'gimVI', 'SpaGE', 'Seurat', 'SpaOTsc', 'novoSpaRc', 'LIGER', 'stPlus']\n",
    "Tools= ['Tangram', 'gimVI', 'SpaGE', 'Seurat', 'SpaOTsc', 'novoSpaRc', 'LIGER', 'stPlus']\n",
    "palette = [\"#F5A8C7\", '#F9EC31', \"#D6DE23\", \"#988DC3\", \"#BBA8D1\", \"#A2CBCF\", \"#7BD1F1\", \"#79c06e\"]\n",
    "\n",
    "DirFiles = os.listdir(path)\n",
    "DataSets = [x for x in DirFiles if x[:4] == 'Data']\n",
    "image_based_dataset = ['Data1', 'Data2', 'Data3', 'Data4', 'Data5', 'Data6', 'Data7', 'Data8', 'Data9', \n",
    "            'Data10', 'Data11', 'Data12', 'Data13', 'Data14', 'Data15', 'Data16', 'Data17']\n",
    "seq_based_dataset = [x for x in DataSets if x not in image_based_dataset]\n",
    "print (len(DataSets))\n",
    "print (len(seq_based_dataset))\n",
    "print (len(image_based_dataset))\n",
    "\n",
    "\n",
    "image_based = make_all_score(path, image_based_dataset)\n",
    "image_based.to_csv(path + \"/Accuracy_Rank/image_based_score.txt\",header=1, index=1)\n",
    "\n",
    "seq_based = make_all_score(path, seq_based_dataset)\n",
    "seq_based.to_csv(path + \"/Accuracy_Rank/seq_based_score.txt\",header=1, index=1)\n",
    "\n",
    "plot_image = pd.read_csv(path + \"/Accuracy_Rank/image_based_score.txt\", header = 0, index_col = 0)\n",
    "plot_image.loc[plot_image['DataSet'] == 'Data8', 'JS'] = 0\n",
    "plot_seq = pd.read_csv(path + \"/Accuracy_Rank/seq_based_score.txt\", header = 0, index_col = 0)\n",
    "\n",
    "plot_all(plot_seq, 'seq-based', order, palette, path)\n",
    "plot_all(plot_image, 'image-based', order, palette, path)\n"
   ]
  },
  {
   "cell_type": "markdown",
   "metadata": {},
   "source": [
    "# Accuracy for all datasets"
   ]
  },
  {
   "cell_type": "code",
   "execution_count": 16,
   "metadata": {},
   "outputs": [
    {
     "data": {
      "image/png": "[encoded data removed]",
      "text/plain": [
       "<Figure size 576x432 with 1 Axes>"
      ]
     },
     "metadata": {
      "needs_background": "light"
     },
     "output_type": "display_data"
    }
   ],
   "source": [
    "path = 'FigureData/Figure2/Metrics/'\n",
    "all_based = make_all_score(path, DataSets)\n",
    "all_based.to_csv(path + \"/Accuracy_Rank/Score.txt\", header = 1, index = 1)\n",
    "plot_data = pd.read_csv(path + \"/Accuracy_Rank/Score.txt\", header = 0, index_col = 0)\n",
    "# JS of Dataset8 is Inf for all methods, because the spatial data has been scaled.\n",
    "plot_data.loc[plot_data['DataSet'] == 'Data8', 'JS'] = 0\n",
    "plot_all(plot_data, 'Accuracy Score', order, palette, path)"
   ]
  },
  {
   "cell_type": "markdown",
   "metadata": {},
   "source": [
    "# Accuracy for MERFISH datasets"
   ]
  },
  {
   "cell_type": "code",
   "execution_count": 18,
   "metadata": {},
   "outputs": [
    {
     "data": {
      "image/png": "[encoded data removed]",
      "text/plain": [
       "<Figure size 576x432 with 1 Axes>"
      ]
     },
     "metadata": {
      "needs_background": "light"
     },
     "output_type": "display_data"
    }
   ],
   "source": [
    "def plot_all(df, name, order, palette, path):\n",
    "    df = df[['PCC', 'SSIM', 'RMSE', 'JS']]\n",
    "    df_all = pd.DataFrame(df.sum(axis=1).values,index = df.index.values,columns=['merge'])\n",
    "    df_all = df_all/4\n",
    "    \n",
    "    plt.figure(figsize=(8, 6))\n",
    "    axes = sns.boxplot(x= 'merge',y= df_all.index.values, data = df_all ,palette=palette,order=order,flierprops = dict(marker='o', markersize=3))\n",
    "    axes = sns.swarmplot(x = 'merge', y = df_all.index.values, data = df_all, order = order, color = \"black\", size = 7)\n",
    "    axes.set_xlabel(name, fontsize=10)\n",
    "    axes.set_ylabel('', fontsize=10)\n",
    "    axes.spines['top'].set_visible(False)\n",
    "    axes.spines['right'].set_visible(False)\n",
    "    plt.xticks(fontsize=8)\n",
    "    plt.yticks(fontsize=8)\n",
    "    plt.savefig(path + \"/Accuracy_Rank/\" + name + '_boxplot.pdf')\n",
    "    plt.show()\n",
    "    \n",
    "order = ['Tangram', 'gimVI', 'SpaGE', 'Seurat', 'SpaOTsc', 'novoSpaRc', 'LIGER', 'stPlus']\n",
    "palette = [\"#F5A8C7\", '#F9EC31', \"#D6DE23\", \"#988DC3\", \"#BBA8D1\", \"#A2CBCF\", \"#7BD1F1\", \"#79c06e\"]    \n",
    "path = 'FigureData/Figure2/Metrics/'\n",
    "MERFISHBased = ['Data6', 'Data7', 'Data8', 'Data9']\n",
    "MERFISH_based = make_all_score(path,MERFISHBased)\n",
    "MERFISH_based.to_csv(path + \"/Accuracy_Rank/MERFISH_score.txt\", header = 1, index = 1)\n",
    "plot_MERFISH = pd.read_csv(path + \"/Accuracy_Rank/MERFISH_score.txt\", header = 0, index_col = 0)\n",
    "plot_MERFISH['Tool'] = plot_MERFISH.index\n",
    "plot_MERFISH.index = plot_MERFISH['Tool'] + '_' + plot_MERFISH['DataSet']\n",
    "\n",
    "### Removed LIGER and gimVI's scores for Data8 because an error occurred when making predictions for Dataset 8 using these two tools.\n",
    "\n",
    "plot_MERFISH = plot_MERFISH.drop('LIGER_Data8', axis = 0)\n",
    "plot_MERFISH = plot_MERFISH.drop('gimVI_Data8', axis = 0)\n",
    "\n",
    "plot_MERFISH.index = plot_MERFISH['Tool']\n",
    "plot_MERFISH = plot_MERFISH[['PCC', 'SSIM', 'RMSE', 'JS', 'DataSet']]\n",
    "plot_MERFISH.loc[plot_MERFISH['DataSet'] == 'Data8', 'JS'] = 0\n",
    "plot_all(plot_MERFISH, 'MERFISHScore', order, palette, path)\n",
    "\n"
   ]
  },
  {
   "cell_type": "code",
   "execution_count": null,
   "metadata": {},
   "outputs": [],
   "source": []
  }
 ],
 "metadata": {
  "kernelspec": {
   "display_name": "Python 3",
   "language": "python",
   "name": "python3"
  },
  "language_info": {
   "codemirror_mode": {
    "name": "ipython",
    "version": 3
   },
   "file_extension": ".py",
   "mimetype": "text/x-python",
   "name": "python",
   "nbconvert_exporter": "python",
   "pygments_lexer": "ipython3",
   "version": "3.7.3"
  }
 },
 "nbformat": 4,
 "nbformat_minor": 4
}
