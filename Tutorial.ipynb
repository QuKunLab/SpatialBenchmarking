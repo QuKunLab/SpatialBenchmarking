{
 "cells": [
  {
   "cell_type": "code",
   "execution_count": null,
   "metadata": {},
   "outputs": [],
   "source": [
    "#You can import the package \"CellAssigment\" to directly predict the cell locations for any spatial datasets.\n",
    "\n",
    "# Before forecasting, please prepare the following files: \n",
    "#1): scRNA count files; \n",
    "#2): spatial count files; \n",
    "# 3): scRNA cell annotation files; \n",
    "#4): count files containing the number of cell types in each space point (option). \n",
    "\n",
    "# For more details, please see the Benchmarking/CellAssigment.py and Figure Data\n"
   ]
  },
  {
   "cell_type": "code",
   "execution_count": null,
   "metadata": {},
   "outputs": [],
   "source": [
    "#You can import the package \"SpatialGenes\" to directly predict the gene spatial distribution for any spatial datasets.\n",
    "\n",
    "# Before forecasting, please prepare the following files: \n",
    "#1): scRNA count files; \n",
    "#2): spatial count files; \n",
    "# 3): spatial location files for novoSpaRc and SpaOTsc; 4): count files containing the number of cells in each space point for Tangram(option). \n",
    "\n",
    "# For more details, please see the Benchmarking/SpatialGenes.py and Figure Data\n"
   ]
  },
  {
   "cell_type": "code",
   "execution_count": 4,
   "metadata": {},
   "outputs": [],
   "source": [
    "##import packages\n",
    "import numpy as np\n",
    "import pandas as pd\n",
    "import sys\n",
    "import os\n",
    "import time as tm\n",
    "import pickle\n",
    "from functools import partial\n",
    "import scipy.stats as st\n",
    "from scipy.stats import wasserstein_distance\n",
    "import scipy.stats\n",
    "import copy\n",
    "from sklearn.model_selection import KFold\n",
    "import pandas as pd\n",
    "import multiprocessing\n",
    "import matplotlib as mpl \n",
    "import matplotlib.pyplot as plt\n",
    "import scanpy as sc\n",
    "import warnings\n",
    "import subprocess\n",
    "import seaborn as sns\n",
    "from sklearn.metrics import mean_squared_error\n",
    "from scipy.spatial.distance import jensenshannon\n",
    "from scipy.stats import pearsonr,ttest_ind,mannwhitneyu\n",
    "import matplotlib\n",
    "\n",
    "import Benchmarking.CellAssigment as CellAssigment\n",
    "import Benchmarking.util as util"
   ]
  },
  {
   "cell_type": "markdown",
   "metadata": {},
   "source": [
    "# Prepare files "
   ]
  },
  {
   "cell_type": "markdown",
   "metadata": {},
   "source": [
    "First, you must download the scRNA count file and put it in \"Rawdata\" directory "
   ]
  },
  {
   "cell_type": "markdown",
   "metadata": {},
   "source": [
    "The scRNA count link:\n",
    "https://drive.google.com/file/d/1ugoZtGHwoK6CLGVK4kWehLscqJqNNha4/view?usp=sharing"
   ]
  },
  {
   "cell_type": "code",
   "execution_count": 5,
   "metadata": {},
   "outputs": [],
   "source": [
    "\n",
    "PATH = 'FigureData/Figure4/Dataset7_STARmap/'\n",
    "\n",
    "scRNA = PATH + 'Rawdata/scRNA_count.txt'\n",
    "spatial_count = PATH + 'Simulated_STARmap/combined_spatial_count.txt'\n",
    "cell_counts = PATH + 'Simulated_STARmap/combined_cell_counts.txt'\n",
    "scrna_meta = PATH + 'Rawdata/scRNA_annotate.txt'\n",
    "annotatetype = 'subclass'\n",
    "gd_result = PATH + 'Simulated_STARmap/combined_spot_clusters.txt'\n",
    "outdir = PATH + 'Result_STARmap/'\n",
    "if not os.path.exists(outdir):\n",
    "    os.mkdir(outdir)\n",
    "location = PATH + 'Simulated_STARmap/combined_Locations.txt'\n",
    "\n"
   ]
  },
  {
   "cell_type": "markdown",
   "metadata": {},
   "source": [
    "# Prediction Cell Locations"
   ]
  },
  {
   "cell_type": "code",
   "execution_count": 6,
   "metadata": {},
   "outputs": [
    {
     "name": "stdout",
     "output_type": "stream",
     "text": [
      "number of cells and genes in the matrix: (14249, 34041)\n",
      "Setting up for reconstruction ... done ( 369.24 seconds )\n",
      "It.  |Err         \n",
      "-------------------\n",
      "    0|2.190068e-04|\n",
      "we use novoSpaRc to predict\n",
      "ExcitatoryL5\n",
      "ExcitatoryL6\n",
      "OtherInhibitory\n"
     ]
    }
   ],
   "source": [
    "MC = CellAssigment.MappingCell(RNA_path = scRNA, Spatial_path = spatial_count, location_path = location, \n",
    "                               count_path = cell_counts, scrna_annotation = scrna_meta, gd_result = gd_result,\n",
    "                               annotatetype = annotatetype, outdir = outdir)\n",
    "Tools = ['novoSpaRc','Seurat','SpaOTsc','Tangram']\n",
    "Tools = ['novoSpaRc']\n",
    "MC.workstart(Tools)\n"
   ]
  },
  {
   "cell_type": "code",
   "execution_count": null,
   "metadata": {},
   "outputs": [],
   "source": []
  },
  {
   "cell_type": "code",
   "execution_count": null,
   "metadata": {},
   "outputs": [],
   "source": [
    "# If you have ground truth files \n",
    "# For example : FigureData/Figure4/Dataset7_STARmap/Simulated_STARmap/combined_spot_clusters.txt)"
   ]
  },
  {
   "cell_type": "markdown",
   "metadata": {},
   "source": [
    "# Calculate the accuracy of prediction"
   ]
  },
  {
   "cell_type": "code",
   "execution_count": 2,
   "metadata": {},
   "outputs": [
    {
     "name": "stdout",
     "output_type": "stream",
     "text": [
      "We Use Celltype Number 12\n",
      "We Use Celltype Number 12\n",
      "We Use Celltype Number 12\n",
      "We Use Celltype Number 12\n"
     ]
    }
   ],
   "source": [
    "PATH = 'FigureData/Figure4/Dataset7_STARmap/'\n",
    "Methods = ['Seurat','Tangram','SpaOTsc','novoSpaRc']\n",
    "outdir = PATH + 'Result_STARmap/'\n",
    "util.CalculateMetric(outdir, Methods, PATH + 'Simulated_STARmap/combined_spot_clusters.txt')  \n"
   ]
  },
  {
   "cell_type": "code",
   "execution_count": null,
   "metadata": {},
   "outputs": [],
   "source": []
  }
 ],
 "metadata": {
  "kernelspec": {
   "display_name": "Python 3",
   "language": "python",
   "name": "python3"
  },
  "language_info": {
   "codemirror_mode": {
    "name": "ipython",
    "version": 3
   },
   "file_extension": ".py",
   "mimetype": "text/x-python",
   "name": "python",
   "nbconvert_exporter": "python",
   "pygments_lexer": "ipython3",
   "version": "3.7.3"
  }
 },
 "nbformat": 4,
 "nbformat_minor": 4
}
