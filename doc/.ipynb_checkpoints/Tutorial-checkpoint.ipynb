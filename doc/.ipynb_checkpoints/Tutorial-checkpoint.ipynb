{
 "cells": [
  {
   "cell_type": "markdown",
   "metadata": {},
   "source": [
    "import packages\n"
   ]
  },
  {
   "cell_type": "code",
   "execution_count": 1,
   "metadata": {},
   "outputs": [],
   "source": [
    "import numpy as np\n",
    "import pandas as pd\n",
    "import sys\n",
    "import os\n",
    "import time as tm\n",
    "import pickle\n",
    "from functools import partial\n",
    "import scipy.stats as st\n",
    "from scipy.stats import wasserstein_distance\n",
    "import scipy.stats\n",
    "import copy\n",
    "from sklearn.model_selection import KFold\n",
    "import pandas as pd\n",
    "import multiprocessing\n",
    "import matplotlib as mpl \n",
    "import matplotlib.pyplot as plt\n",
    "import scanpy as sc\n",
    "import warnings\n",
    "import subprocess\n",
    "import seaborn as sns\n",
    "from sklearn.metrics import mean_squared_error\n",
    "from scipy.spatial.distance import jensenshannon\n",
    "from scipy.stats import pearsonr,ttest_ind,mannwhitneyu\n",
    "import matplotlib\n",
    "import time"
   ]
  },
  {
   "cell_type": "code",
   "execution_count": 2,
   "metadata": {},
   "outputs": [],
   "source": [
    "###please make sure that you have changed the directory to 'SpatialBenchmarking'.\n",
    "os.chdir('../')"
   ]
  },
  {
   "cell_type": "markdown",
   "metadata": {},
   "source": [
    "Predict gene spatial distribution of undetected genes"
   ]
  },
  {
   "cell_type": "markdown",
   "metadata": {},
   "source": [
    "Prepared files"
   ]
  },
  {
   "cell_type": "code",
   "execution_count": 3,
   "metadata": {},
   "outputs": [],
   "source": [
    "### First, you must download the data and put it in \"FigureData/Figure2/Dataset2_osmFISH/Rawdata\" directory\n",
    "    #The data link: https://drive.google.com/file/d/1ugoZtGHwoK6CLGVK4kWehLscqJqNNha4/view?usp=sharing\n",
    "    #1): scRNA-seq count files (eg. scRNA_count.txt); \n",
    "         # genes X cells, each row is a gene and each col is a cell.\n",
    "    #2): spatial transcriptomics count files (eg. Insitu_count.txt);\n",
    "         # spots X genes, each col is a gene. Please note that the file has no index\n",
    "    #3): spatial location files (eg. Locations.txt); \n",
    "         # each col is a spot coordinates. Please note that the file has no index.\n",
    "         # default: None. It is necessary when you use SpaOTsc or novoSpaRc to integrate datasets.\n",
    "    #4): count files containing the number of cells in each spot for Tangram(option) (eg. count.txt);\n",
    "         # each row represents the number of cells in each spot. Please note that has no index and the file columns must be 'cell_counts'\n",
    "         # default: None. It is necessary when you use Tangram_seq functions to integrate datasets.\n",
    "         # Please note that Tangram can be used in two ways : Tangram_image or Tangram_seq.\n",
    "         # Only when  you have information file that containing the number of cells in each spot, you can use Tangram_seq.\n"
   ]
  },
  {
   "cell_type": "code",
   "execution_count": 4,
   "metadata": {},
   "outputs": [
    {
     "name": "stdout",
     "output_type": "stream",
     "text": [
      "Please note you are using count expression matrix to predict\n"
     ]
    },
    {
     "name": "stderr",
     "output_type": "stream",
     "text": [
      "Trying to set attribute `.obs` of view, copying.\n",
      "Trying to set attribute `.obs` of view, copying.\n"
     ]
    },
    {
     "name": "stdout",
     "output_type": "stream",
     "text": [
      "\u001b[34mINFO\u001b[0m      No batch_key inputted, assuming all cells are same batch                           \n",
      "\u001b[34mINFO\u001b[0m      No label_key inputted, assuming all cells have same label                          \n",
      "\u001b[34mINFO\u001b[0m      Using data from adata.X                                                            \n",
      "\u001b[34mINFO\u001b[0m      Computing library size prior per batch                                             \n",
      "\u001b[34mINFO\u001b[0m      Successfully registered anndata object containing \u001b[1;34m3405\u001b[0m cells, \u001b[1;34m33\u001b[0m vars, \u001b[1;34m1\u001b[0m batches, \u001b[1;34m1\u001b[0m\n",
      "          labels, and \u001b[1;34m0\u001b[0m proteins. Also registered \u001b[1;34m0\u001b[0m extra categorical covariates and \u001b[1;34m0\u001b[0m extra \n",
      "          continuous covariates.                                                             \n",
      "\u001b[34mINFO\u001b[0m      Please do not further modify adata until model is trained.                         \n",
      "\u001b[34mINFO\u001b[0m      No batch_key inputted, assuming all cells are same batch                           \n",
      "\u001b[34mINFO\u001b[0m      No label_key inputted, assuming all cells have same label                          \n",
      "\u001b[34mINFO\u001b[0m      Using data from adata.X                                                            \n",
      "\u001b[34mINFO\u001b[0m      Computing library size prior per batch                                             \n",
      "\u001b[34mINFO\u001b[0m      Successfully registered anndata object containing \u001b[1;34m5613\u001b[0m cells, \u001b[1;34m53\u001b[0m vars, \u001b[1;34m1\u001b[0m batches, \u001b[1;34m1\u001b[0m\n",
      "          labels, and \u001b[1;34m0\u001b[0m proteins. Also registered \u001b[1;34m0\u001b[0m extra categorical covariates and \u001b[1;34m0\u001b[0m extra \n",
      "          continuous covariates.                                                             \n",
      "\u001b[34mINFO\u001b[0m      Please do not further modify adata until model is trained.                         \n",
      "\u001b[34mINFO\u001b[0m      Training for \u001b[1;34m200\u001b[0m epochs.                                                           \n",
      "Training...: 100%|██████████| 200/200 [05:50<00:00,  1.75s/it]\n",
      "number of cells and genes in the matrix: (5613, 30527)\n",
      "Setting up for reconstruction ... done ( 77.5 seconds )\n",
      "It.  |Err         \n",
      "-------------------\n",
      "    0|3.830581e-04|\n",
      "0.00017003242101054639 0.4879019260406494 nan 568.885498046875 1154.95751953125\n",
      "0.007099645212292671 0.9507437348365784 nan 0.052490234375 176.5531005859375\n",
      "0.006625942420214415 0.9547532796859741 nan 0.14990234375 45.69941329956055\n",
      "0.006561789195984602 0.9556216597557068 nan 0.1279296875 26.245145797729492\n",
      "0.0065299756824970245 0.9559930562973022 nan 0.038818359375 20.494834899902344\n",
      "0.006509941536933184 0.9561933875083923 nan 0.02197265625 17.03395652770996\n",
      "0.006506357342004776 0.9563297033309937 nan 0.066162109375 14.594219207763672\n",
      "0.00649217190220952 0.9564161896705627 nan 0.0888671875 13.6556978225708\n",
      "0.006486204452812672 0.9564879536628723 nan 0.017822265625 13.127785682678223\n",
      "0.0064865299500525 0.9565447568893433 nan 0.1611328125 12.570239067077637\n"
     ]
    }
   ],
   "source": [
    "import numpy as np\n",
    "import pandas as pd\n",
    "#Import the package \"SpatialGenes\" to directly predict the gene spatial distribution for any spatial datasets.\n",
    "import Benchmarking.SpatialGenes as SpatialGenes\n",
    "### input data directory\n",
    "PATH = 'FigureData/Figure2/Dataset2_osmFISH/Rawdata/' \n",
    "\n",
    "### scRNA-seq count files (genes X cells, each row is a gene and each col is a cell)\n",
    "RNA_path = PATH + 'scRNA_count.txt'\n",
    "\n",
    "### spatial transcriptomics count files (each col is a gene)\n",
    "Spatial_path =  PATH + 'Insitu_count.txt'\n",
    "\n",
    "### spatial location files (each col is a spot coordinate)\n",
    "location_path = PATH + 'Locations.txt'\n",
    "\n",
    "### Read data\n",
    "RNA_data = pd.read_table(RNA_path,header=0,index_col = 0) \n",
    "Spatial_data = pd.read_table(Spatial_path,sep='\\t',header=0)\n",
    "\n",
    "### genes for integration and prediction. Please note it must be a list.\n",
    "train_list = list(RNA_data.index&Spatial_data.columns)\n",
    "test_list = list(set(RNA_data.index) - set(Spatial_data.columns))[:20]\n",
    "\n",
    "### Outfile directory\n",
    "outdir =  'FigureData/Figure2/Dataset2_osmFISH/Test/'\n",
    "if not os.path.exists(outdir):\n",
    "        os.mkdir(outdir)\n",
    "        \n",
    "### Running \n",
    "test = SpatialGenes.GenePrediction(RNA_path, Spatial_path, location_path, train_list = train_list, test_list = test_list, outdir = outdir)\n",
    "### choose tools you you want use for prediction\n",
    "Methods = ['SpaGE','novoSpaRc','gimVI','Tangram_image','SpaOTsc','Seurat','LIGER',] ### Tangram can be used for prediction by Tangram_seq or Tangram_image functions\n",
    "### Prediction\n",
    "Result = test.Imputing(Methods)\n"
   ]
  },
  {
   "cell_type": "code",
   "execution_count": null,
   "metadata": {},
   "outputs": [],
   "source": []
  },
  {
   "cell_type": "markdown",
   "metadata": {},
   "source": [
    "Prediction Cell Locations"
   ]
  },
  {
   "cell_type": "markdown",
   "metadata": {},
   "source": [
    "Prepared files"
   ]
  },
  {
   "cell_type": "code",
   "execution_count": null,
   "metadata": {},
   "outputs": [],
   "source": [
    "### First, you must download scRNA count file and put it in \"FigureData/Figure4/Dataset7_STARmap/Rawdata\" directory\n",
    "    #The data link: https://drive.google.com/file/d/1ugoZtGHwoK6CLGVK4kWehLscqJqNNha4/view?usp=sharing\n",
    "#1): scRNA-seq count files (eg. scRNA_count.txt); \n",
    "         # genes X cells, each row is a gene and each col is a cell.\n",
    "#2): spatial transcriptomics count files (eg. combined_spatial_count.txt);\n",
    "         # spots X genes, each col is a gene. Please note that the file has no index.\n",
    "#3): spatial location files (eg. combined_Locations.txt); \n",
    "         # spots X coordinates, each col is a spot coordinates. Please note that the file has no index\n",
    "         # default: None. It is necessary when you use SpaOTsc or novoSpaRc to integrate datasets.\n",
    "#4): scRNA cell annotation files (scRNA_annotate.txt)\n",
    "         # cells X celltype, each row is a cell and the col is cell annotation. \n",
    "         # for one cell you may have different cell annotation type.\n",
    "         # Please note that the file must have a columns named 'celltype'\n",
    "#5): count files containing the number of cells in each spot for Tangram (option) (eg. combined_cell_counts.txt).\n",
    "         # spots X numbers. each row is a spot index and the row represents the number of cells in each spot. \n",
    "         # Please note that the file columns must be 'cell_count'\n",
    "         # default: None. It is necessary when you use Tangram to integrate datasets."
   ]
  },
  {
   "cell_type": "code",
   "execution_count": null,
   "metadata": {},
   "outputs": [],
   "source": [
    "#import the package \"CellAssigment\" to directly predict the cell locations.\n",
    "import Benchmarking.CellAssigment as CellAssigment\n",
    "\n",
    "time_start=time.time()\n",
    "### input data directory\n",
    "PATH = 'FigureData/Figure4/Dataset7_STARmap/'\n",
    "\n",
    "### scRNA-seq count files (genes X cells, each row is a gene and each col is a cell)\n",
    "scRNA = PATH + 'Rawdata/scRNA_count.txt'\n",
    "\n",
    "### spatial transcriptomics count files (each col is a gene)\n",
    "spatial_count = PATH + 'Simulated_STARmap/combined_spatial_count.txt'\n",
    "\n",
    "###spatial location file (spots X coordinates, each col is a spot coordinates. Please note that the file has no index).\n",
    "location = PATH + 'Simulated_STARmap/combined_Locations.txt'\n",
    "\n",
    "### count files containing the number of cells in each spot for Tangram (each row is a spot index and each col is a cell )\n",
    "cell_counts = PATH + 'Simulated_STARmap/combined_cell_counts.txt'\n",
    "\n",
    "### scRNA cell annotation files (each row is a cell and each col is a cell annotation)\n",
    "scrna_meta = PATH + 'Rawdata/scRNA_annotate.txt'\n",
    "\n",
    "### In scRNA cell annotation files,for one cell you may have different cell annotation, choose a columns as a annotation for input\n",
    "annotatetype = 'subclass'\n",
    "\n",
    "### Outfile directory\n",
    "outdir = PATH + 'Test/'\n",
    "if not os.path.exists(outdir):\n",
    "    os.mkdir(outdir)\n",
    "\n",
    "### Running\n",
    "MC = CellAssigment.MappingCell(RNA_path = scRNA, Spatial_path = spatial_count, location_path = location, \n",
    "                               count_path = cell_counts, scrna_annotation = scrna_meta, \n",
    "                               annotatetype = annotatetype,outdir = outdir)\n",
    "### choose tools you you want use for prediction\n",
    "Tools = ['novoSpaRc','SpaOTsc','Seurat','Tangram']\n",
    "### prediction\n",
    "MC.workstart(Tools)\n",
    "time_end=time.time()\n",
    "print('STARmap datasets prediction time cost',(time_end-time_start)/60,'minutes')\n"
   ]
  },
  {
   "cell_type": "code",
   "execution_count": null,
   "metadata": {},
   "outputs": [],
   "source": []
  }
 ],
 "metadata": {
  "kernelspec": {
   "display_name": "Python 3",
   "language": "python",
   "name": "python3"
  },
  "language_info": {
   "codemirror_mode": {
    "name": "ipython",
    "version": 3
   },
   "file_extension": ".py",
   "mimetype": "text/x-python",
   "name": "python",
   "nbconvert_exporter": "python",
   "pygments_lexer": "ipython3",
   "version": "3.7.3"
  }
 },
 "nbformat": 4,
 "nbformat_minor": 4
}
