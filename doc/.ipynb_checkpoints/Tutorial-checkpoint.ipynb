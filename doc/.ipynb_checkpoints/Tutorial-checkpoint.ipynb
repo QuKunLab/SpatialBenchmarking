{
 "cells": [
  {
   "cell_type": "code",
   "execution_count": 1,
   "metadata": {},
   "outputs": [],
   "source": [
    "##import packages\n",
    "import numpy as np\n",
    "import pandas as pd\n",
    "import sys\n",
    "import os\n",
    "import time as tm\n",
    "import pickle\n",
    "from functools import partial\n",
    "import scipy.stats as st\n",
    "from scipy.stats import wasserstein_distance\n",
    "import scipy.stats\n",
    "import copy\n",
    "from sklearn.model_selection import KFold\n",
    "import pandas as pd\n",
    "import multiprocessing\n",
    "import matplotlib as mpl \n",
    "import matplotlib.pyplot as plt\n",
    "import scanpy as sc\n",
    "import warnings\n",
    "import subprocess\n",
    "import seaborn as sns\n",
    "from sklearn.metrics import mean_squared_error\n",
    "from scipy.spatial.distance import jensenshannon\n",
    "from scipy.stats import pearsonr,ttest_ind,mannwhitneyu\n",
    "import matplotlib\n",
    "import time\n"
   ]
  },
  {
   "cell_type": "code",
   "execution_count": 2,
   "metadata": {},
   "outputs": [],
   "source": [
    "###please in the SpatialBenchmarking dir.\n",
    "os.chdir('~/SpatialBenchmarking/')\n",
    "### please add the your SpatialBenchmarking dir into the pythn path \n",
    "sys.path.append('./')"
   ]
  },
  {
   "cell_type": "code",
   "execution_count": null,
   "metadata": {},
   "outputs": [],
   "source": [
    "##First, you must download the data\n",
    "## The data link: https://drive.google.com/file/d/1ugoZtGHwoK6CLGVK4kWehLscqJqNNha4/view?usp=sharing"
   ]
  },
  {
   "cell_type": "code",
   "execution_count": null,
   "metadata": {},
   "outputs": [],
   "source": [
    "#### Predict gene spatial distribution of undetected genes\n",
    "#You can import the package \"SpatialGenes\" to directly predict the gene spatial distribution for any spatial datasets.\n",
    "\n",
    "# Before forecasting, please prepare the following files: \n",
    "#1): scRNA count files; \n",
    "#2): spatial count files; \n",
    "#3): spatial location files for novoSpaRc and SpaOTsc; \n",
    "\n",
    "# For more details, please see the Benchmarking/SpatialGenes.py and Figure Data"
   ]
  },
  {
   "cell_type": "code",
   "execution_count": null,
   "metadata": {},
   "outputs": [],
   "source": [
    "import os\n",
    "import numpy as np\n",
    "import pandas as pd\n",
    "import Benchmarking.SpatialGenes as SpatialGenes\n",
    "import os\n",
    "\n",
    "PATH = 'DataUpload/Dataset15/'\n",
    "RNA_path = PATH + 'scRNA_count.txt'\n",
    "Spatial_path =  PATH + 'Insitu_count.txt'\n",
    "location_path = PATH + 'Locations.txt'\n",
    "RNA_data = pd.read_table(RNA_path,header = 0,index_col = 0)\n",
    "Spatial_data = pd.read_table(Spatial_path,sep = '\\t',header=0)\n",
    "train_list = list(RNA_data.index&Spatial_data.columns)\n",
    "print (train_list)\n",
    "test_list = list(set(RNA_data.index) - set(Spatial_data.columns))[:20]\n",
    "\n",
    "outdir =  'Dataset15/'\n",
    "if not os.path.exists(outdir):\n",
    "    os.mkdir(outdir)\n",
    "test = SpatialGenes.GenePrediction(RNA_path, Spatial_path, location_path, train_list = train_list, test_list = test_list, outdir = outdir)\n",
    "Methods = ['SpaGE', 'Seurat', 'SpaOTsc', 'novoSpaRc', 'LIGER']\n",
    "Result = test.Imputing(Methods)\n",
    "\n"
   ]
  },
  {
   "cell_type": "markdown",
   "metadata": {},
   "source": [
    "# GPU Platform gimVI, Tangram, and stPlus"
   ]
  },
  {
   "cell_type": "code",
   "execution_count": null,
   "metadata": {},
   "outputs": [],
   "source": [
    "import os\n",
    "import numpy as np\n",
    "import pandas as pd\n",
    "from stPlus import *\n",
    "import Benchmarking.SpatialGenes as SpatialGenes\n",
    "import os\n",
    "\n",
    "PATH = 'DataUpload/Dataset15/'\n",
    "RNA_path = PATH + 'scRNA_count.txt'\n",
    "Spatial_path =  PATH + 'Insitu_count.txt'\n",
    "location_path = PATH + 'Locations.txt'\n",
    "RNA_data = pd.read_table(RNA_path,header = 0,index_col = 0)\n",
    "Spatial_data = pd.read_table(Spatial_path,sep = '\\t',header=0)\n",
    "train_list = list(RNA_data.index&Spatial_data.columns)\n",
    "print (train_list)\n",
    "test_list = list(set(RNA_data.index) - set(Spatial_data.columns))[:20]\n",
    "\n",
    "outdir =  'Dataset15/'\n",
    "if not os.path.exists(outdir):\n",
    "    os.mkdir(outdir)\n",
    "test = SpatialGenes.GenePrediction(RNA_path, Spatial_path, location_path, train_list = train_list, test_list = test_list, outdir = outdir)\n",
    "Methods = ['Tangram', 'gimVI', 'stPlus']\n",
    "Result = test.Imputing(Methods)\n"
   ]
  },
  {
   "cell_type": "code",
   "execution_count": null,
   "metadata": {},
   "outputs": [],
   "source": [
    "#You can import the package \"DeconvolutionSpot\" to directly predict the cell locations for any spatial datasets.\n",
    "\n",
    "# Before forecasting, please prepare the following files: \n",
    "#1): scRNA count files, h5ad file or h5seurat file; \n",
    "#2): spatial count files, h5ad file or h5seurat file; \n",
    "#3): scRNA cell annotation files; \n",
    "#4): output dir. \n",
    "\n",
    "# For more details, please see the Benchmarking/DeconvolutionSpot.py and Figure Data"
   ]
  },
  {
   "cell_type": "markdown",
   "metadata": {},
   "source": [
    "# Prediction Celltype deconvolution"
   ]
  },
  {
   "cell_type": "code",
   "execution_count": null,
   "metadata": {},
   "outputs": [],
   "source": [
    "### please add the your SpatialBenchmarking dir into the pythn path \n",
    "sys.path.append('./')\n",
    "import Benchmarking.DeconvolutionSpot as DeconvolutionSpot\n",
    "\n",
    "### for Cell2location, Stereoscope, Tangram, DestVI, you must have .h5ad files as input.\n",
    "\n",
    "RNA_h5ad = 'ExampleData/Simulated_STARmap/starmap_sc_rna.h5ad'\n",
    "Spatial_h5ad = 'ExampleData/Simulated_STARmap/starmap_spatial.h5ad'\n",
    "celltype_key = 'celltype'\n",
    "output_path = 'FigureData/Figure4/Dataset10_STARmap/Result_STARmap/'\n",
    "if not os.path.exists(output_path):\n",
    "    os.mkdir(output_path)\n",
    "\n",
    "test = DeconvolutionSpot.Deconvolutions(RNA_h5ad = RNA_h5ad, Spatial_h5ad = Spatial_h5ad, celltype_key = celltype_key, output_path = output_path)\n",
    "Methods = ['Cell2location', 'Stereoscope','Tangram', 'DestVI']\n",
    "Result = test.Dencon(Methods)\n",
    "\n"
   ]
  },
  {
   "cell_type": "code",
   "execution_count": null,
   "metadata": {},
   "outputs": [],
   "source": [
    "sys.path.append('./')\n",
    "import Benchmarking.DeconvolutionSpot as DeconvolutionSpot\n",
    "\n",
    "### for SpatialDWLS, RCTD, Seurat, SPOTlight, you must have .h5seurat files as input.\n",
    "### for SpatialDWLS, you must add my_python_path.\n",
    "RNA_h5Seurat = 'ExampleData/Simulated_STARmap/starmap_sc_rna.h5seurat'\n",
    "Spatial_h5Seurat = 'ExampleData/Simulated_STARmap/starmap_spatial.h5seurat'\n",
    "celltype_key = 'celltype'\n",
    "output_path = 'FigureData/Figure4/Dataset10_STARmap/Result_STARmap/'\n",
    "my_python_path = '~/miniconda2/envs/Deconvolution/bin/python'\n",
    "if not os.path.exists(output_path):\n",
    "    os.mkdir(output_path)\n",
    "# set the parameter k.filter=50=30 when use Seurat\n",
    "test = DeconvolutionSpot.Deconvolutions(RNA_h5Seurat= RNA_h5Seurat, Spatial_h5Seurat = Spatial_h5Seurat, celltype_key = celltype_key, my_python_path = my_python_path, output_path = output_path)\n",
    "Methods = ['SpatialDWLS','RCTD', 'Seurat', 'SPOTlight']\n",
    "Result = test.Dencon(Methods)\n"
   ]
  },
  {
   "cell_type": "code",
   "execution_count": null,
   "metadata": {},
   "outputs": [],
   "source": [
    "sys.path.append('./')\n",
    "import Benchmarking.DeconvolutionSpot as DeconvolutionSpot\n",
    "\n",
    "### for STRIDE, have count matrix files as input.\n",
    "\n",
    "RNA_file = 'ExampleData/Simulated_STARmap/starmap_sc_rna.tsv'\n",
    "Spatial_file = 'ExampleData/Simulated_STARmap/starmap_spatial.tsv'\n",
    "celltype_file = 'ExampleData/Simulated_STARmap/starmap_sc_rna_celltype.tsv'\n",
    "output_path = 'FigureData/Figure4/Dataset10_STARmap/Result_STARmap/'\n",
    "if not os.path.exists(output_path):\n",
    "    os.mkdir(output_path)\n",
    "\n",
    "test = DeconvolutionSpot.Deconvolutions(RNA_file = RNA_file, Spatial_file = Spatial_file, celltype_file = celltype_file, output_path = output_path)\n",
    "Methods = ['STRIDE']\n",
    "Result = test.Dencon(Methods)\n"
   ]
  }
 ],
 "metadata": {
  "kernelspec": {
   "display_name": "Python 3",
   "language": "python",
   "name": "python3"
  },
  "language_info": {
   "codemirror_mode": {
    "name": "ipython",
    "version": 3
   },
   "file_extension": ".py",
   "mimetype": "text/x-python",
   "name": "python",
   "nbconvert_exporter": "python",
   "pygments_lexer": "ipython3",
   "version": "3.7.3"
  }
 },
 "nbformat": 4,
 "nbformat_minor": 4
}
