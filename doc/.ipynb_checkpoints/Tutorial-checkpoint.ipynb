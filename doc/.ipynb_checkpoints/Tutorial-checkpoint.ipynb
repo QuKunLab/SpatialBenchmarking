{
 "cells": [
  {
   "cell_type": "markdown",
   "metadata": {},
   "source": [
    "import packages\n"
   ]
  },
  {
   "cell_type": "code",
   "execution_count": 4,
   "metadata": {},
   "outputs": [],
   "source": [
    "import numpy as np\n",
    "import pandas as pd\n",
    "import sys\n",
    "import os\n",
    "import time as tm\n",
    "import pickle\n",
    "from functools import partial\n",
    "import scipy.stats as st\n",
    "from scipy.stats import wasserstein_distance\n",
    "import scipy.stats\n",
    "import copy\n",
    "from sklearn.model_selection import KFold\n",
    "import pandas as pd\n",
    "import multiprocessing\n",
    "import matplotlib as mpl \n",
    "import matplotlib.pyplot as plt\n",
    "import scanpy as sc\n",
    "import warnings\n",
    "import subprocess\n",
    "import seaborn as sns\n",
    "from sklearn.metrics import mean_squared_error\n",
    "from scipy.spatial.distance import jensenshannon\n",
    "from scipy.stats import pearsonr,ttest_ind,mannwhitneyu\n",
    "import matplotlib\n",
    "import time"
   ]
  },
  {
   "cell_type": "code",
   "execution_count": 2,
   "metadata": {},
   "outputs": [],
   "source": [
    "###please make sure that you have changed the directory to 'SpatialBenchmarking'.\n",
    "os.chdir('../')"
   ]
  },
  {
   "cell_type": "markdown",
   "metadata": {},
   "source": [
    "Predict gene spatial distribution of undetected genes"
   ]
  },
  {
   "cell_type": "markdown",
   "metadata": {},
   "source": [
    "Prepared files"
   ]
  },
  {
   "cell_type": "code",
   "execution_count": 5,
   "metadata": {},
   "outputs": [],
   "source": [
    "### First, you must download the data and put it in \"FigureData/Figure2/Dataset2_osmFISH/Rawdata\" directory\n",
    "    #The data link: https://drive.google.com/file/d/1ugoZtGHwoK6CLGVK4kWehLscqJqNNha4/view?usp=sharing\n",
    "    #1): scRNA-seq count files (eg. scRNA_count.txt); \n",
    "         # genes X cells, each row is a gene and each col is a cell.\n",
    "    #2): spatial transcriptomics count files (eg. Insitu_count.txt);\n",
    "         # spots X genes, each col is a gene. Please note that the file has no index\n",
    "    #3): spatial location files (eg. Locations.txt); \n",
    "         # each col is a spot coordinates. Please note that the file has no index.\n",
    "         # default: None. It is necessary when you use SpaOTsc or novoSpaRc to integrate datasets.\n",
    "    #4): count files containing the number of cells in each spot for Tangram(option) (eg. count.txt);\n",
    "         # each row represents the number of cells in each spot. Please note that has no index and the file columns must be 'cell_counts'\n",
    "         # default: None. It is necessary when you use Tangram_seq functions to integrate datasets.\n"
   ]
  },
  {
   "cell_type": "code",
   "execution_count": null,
   "metadata": {},
   "outputs": [
    {
     "name": "stdout",
     "output_type": "stream",
     "text": [
      "Please note you are using count expression matrix to predict\n",
      "number of cells and genes in the matrix: (5613, 30527)\n",
      "Setting up for reconstruction ... done ( 59.95 seconds )\n",
      "['Dync1li2' 'Syncrip' 'Lix1l' 'Gm15000' 'Cyb5a' 'Pde1b' 'LOC105246973'\n",
      " 'Ssr3' 'Zc3h12c' 'A230057D06Rik' 'Gm31930' 'Ntn4' 'Fam81a' 'Arhgap36'\n",
      " 'Gm34913' 'Nr1h2' 'A930013F10Rik' 'Gm4042' 'Gm5256' 'LOC105246362']\n",
      "['Acta2' 'Aldoc' 'Anln' 'Apln' 'Bmp4' 'Cnr1' 'Cpne5' 'Crh' 'Crhbp' 'Ctps'\n",
      " 'Flt1' 'Foxj1' 'Gad2' 'Gfap' 'Hexb' 'Itpr2' 'Kcnip2' 'Lamp5' 'Mfge8'\n",
      " 'Mrc1' 'Pdgfra' 'Plp1' 'Pthlh' 'Rorb' 'Serpinf1' 'Slc32a1' 'Sox10' 'Syt6'\n",
      " 'Tbr1' 'Tmem2' 'Ttr' 'Vip' 'Vtn']\n",
      "It.  |Err         \n",
      "-------------------\n",
      "    0|3.830581e-04|\n"
     ]
    }
   ],
   "source": [
    "import numpy as np\n",
    "import pandas as pd\n",
    "#Import the package \"SpatialGenes\" to directly predict the gene spatial distribution for any spatial datasets.\n",
    "import Benchmarking.SpatialGenes as SpatialGenes\n",
    "### input data directory\n",
    "PATH = 'FigureData/Figure2/Dataset2_osmFISH/Rawdata/' \n",
    "\n",
    "### scRNA-seq count files (genes X cells, each row is a gene and each col is a cell)\n",
    "RNA_path = PATH + 'scRNA_count.txt'\n",
    "\n",
    "### spatial transcriptomics count files (each col is a gene)\n",
    "Spatial_path =  PATH + 'Insitu_count.txt'\n",
    "\n",
    "### spatial location files (each col is a spot coordinate)\n",
    "location_path = PATH + 'Locations.txt'\n",
    "\n",
    "### Read data\n",
    "RNA_data = pd.read_table(RNA_path,header=0,index_col = 0) \n",
    "Spatial_data = pd.read_table(Spatial_path,sep='\\t',header=0)\n",
    "\n",
    "### genes for integration and prediction. Please note it must be a list.\n",
    "train_list = list(RNA_data.index&Spatial_data.columns)\n",
    "test_list = list(set(RNA_data.index) - set(Spatial_data.columns))[:20]\n",
    "\n",
    "### Outfile directory\n",
    "outdir =  'FigureData/Figure2/Dataset2_osmFISH/Test/'\n",
    "if not os.path.exists(outdir):\n",
    "        os.mkdir(outdir)\n",
    "        \n",
    "### Running \n",
    "test = SpatialGenes.GenePrediction(RNA_path, Spatial_path, location_path, train_list = train_list, test_list = test_list, outdir = outdir)\n",
    "### choose tools you you want use for prediction\n",
    "Methods = ['SpaGE','novoSpaRc','SpaOTsc','Seurat','LIGER','gimVI','Tangram_image'] ### Tangram can be used for prediction by Tangram_seq or Tangram_image functions\n",
    "### Prediction\n",
    "Result = test.Imputing(Methods)\n"
   ]
  },
  {
   "cell_type": "code",
   "execution_count": null,
   "metadata": {},
   "outputs": [],
   "source": []
  },
  {
   "cell_type": "markdown",
   "metadata": {},
   "source": [
    "Prediction Cell Locations"
   ]
  },
  {
   "cell_type": "markdown",
   "metadata": {},
   "source": [
    "Prepared files"
   ]
  },
  {
   "cell_type": "code",
   "execution_count": null,
   "metadata": {},
   "outputs": [],
   "source": [
    "### First, you must download scRNA count file and put it in \"FigureData/Figure4/Dataset7_STARmap/Rawdata\" directory\n",
    "    #The data link: https://drive.google.com/file/d/1ugoZtGHwoK6CLGVK4kWehLscqJqNNha4/view?usp=sharing\n",
    "#1): scRNA-seq count files (eg. scRNA_count.txt); \n",
    "         # genes X cells, each row is a gene and each col is a cell.\n",
    "#2): spatial transcriptomics count files (eg. combined_spatial_count.txt);\n",
    "         # spots X genes, each col is a gene. Please note that the file has no index.\n",
    "#3): spatial location files (eg. combined_Locations.txt); \n",
    "         # spots X coordinates, each col is a spot coordinates. Please note that the file has no index\n",
    "         # default: None. It is necessary when you use SpaOTsc or novoSpaRc to integrate datasets.\n",
    "#4): scRNA cell annotation files (scRNA_annotate.txt)\n",
    "         # cells X celltype, each row is a cell and each col is a cell annotation. \n",
    "         # Please note that the file must have a columns named 'celltype'\n",
    "#5): count files containing the number of cells in each spot for Tangram (option) (eg. combined_cell_counts.txt).\n",
    "         # spots X numbers. each row is a spot index and each col is a cell. \n",
    "         # Please note that the file columns must be 'cell_count'\n",
    "         # default: None. It is necessary when you use Tangram to integrate datasets."
   ]
  },
  {
   "cell_type": "code",
   "execution_count": 3,
   "metadata": {},
   "outputs": [
    {
     "name": "stdout",
     "output_type": "stream",
     "text": [
      "number of cells and genes in the matrix: (14249, 34041)\n",
      "Setting up for reconstruction ... done ( 364.53 seconds )\n",
      "It.  |Err         \n",
      "-------------------\n",
      "    0|2.190068e-04|\n",
      "we use novoSpaRc to predict\n",
      "ExcitatoryL5\n",
      "ExcitatoryL6\n",
      "OtherInhibitory\n",
      "we use Tangram to predict\n",
      "0.09071024507284164 0.6861470937728882 nan 5589.3759765625 2941.720947265625\n",
      "0.0009233671007677913 0.8464354276657104 nan 42.0799560546875 598.6212768554688\n",
      "0.0009810213232412934 0.8447515964508057 nan 5.2156982421875 253.0824432373047\n",
      "0.0010440872283652425 0.844307005405426 nan 1.638427734375 184.5181884765625\n",
      "0.0010591298341751099 0.843985378742218 nan 0.190185546875 149.59246826171875\n",
      "0.0010766068007797003 0.8436713218688965 nan 0.3631591796875 131.82437133789062\n",
      "0.0010810955427587032 0.8435338139533997 nan 0.3779296875 115.12203216552734\n",
      "0.0010872845305129886 0.8433454632759094 nan 0.0328369140625 104.96468353271484\n",
      "0.0010751537047326565 0.8431640863418579 nan 0.4385986328125 95.38682556152344\n",
      "0.0010820897296071053 0.8429886698722839 nan 1.548828125 82.28730010986328\n",
      "0.0010829396778717637 0.8428691625595093 nan 1.297119140625 77.27259063720703\n",
      "0.0010810531675815582 0.8428029417991638 nan 0.1748046875 72.40436553955078\n",
      "0.0010871358681470156 0.8427450060844421 nan 0.6175537109375 68.5157699584961\n",
      "0.0010789644438773394 0.8424853086471558 nan 1.25439453125 61.16284942626953\n",
      "0.0010816031135618687 0.8423753976821899 nan 1.4539794921875 57.897518157958984\n",
      "0.0010810733074322343 0.8424050211906433 nan 0.472900390625 55.846614837646484\n",
      "0.0010826622601598501 0.8423888683319092 nan 1.5118408203125 52.753990173339844\n",
      "0.0010844510979950428 0.8423570394515991 nan 1.589111328125 50.638431549072266\n",
      "0.0010809607338160276 0.842354953289032 nan 0.979248046875 49.219444274902344\n",
      "0.0010685077868402004 0.8423002362251282 nan 1.15869140625 47.99551773071289\n",
      "0.001092492719180882 0.8420571088790894 nan 0.8389892578125 45.34135437011719\n",
      "0.0010850857943296432 0.8422253131866455 nan 1.3299560546875 42.816158294677734\n",
      "0.0010783012257888913 0.842235267162323 nan 1.6041259765625 41.52070617675781\n",
      "0.0010590237798169255 0.8421357870101929 nan 0.9722900390625 38.15745544433594\n",
      "0.00104460958391428 0.8421057462692261 nan 0.9134521484375 35.22398376464844\n",
      "0.0010522832162678242 0.8421666026115417 nan 0.6446533203125 35.46553039550781\n",
      "0.0010534502798691392 0.8421603441238403 nan 1.2236328125 34.87005615234375\n",
      "0.001049304148182273 0.842131495475769 nan 0.628173828125 34.38832473754883\n",
      "0.001034098444506526 0.8419395685195923 nan 0.5164794921875 31.571002960205078\n",
      "0.0010311176301911473 0.8419609665870667 nan 1.1956787109375 30.8812255859375\n",
      "0.0010355780832469463 0.8419980406761169 nan 0.2176513671875 30.844736099243164\n",
      "0.0010341131128370762 0.8419803977012634 nan 1.2015380859375 27.869258880615234\n",
      "0.0010334813268855214 0.8419867157936096 nan 1.4029541015625 26.66332244873047\n",
      "0.0010430586989969015 0.842028021812439 nan 0.1123046875 26.94661521911621\n",
      "0.001039345865137875 0.842023491859436 nan 1.33544921875 25.721017837524414\n",
      "0.0010425453074276447 0.8420463800430298 nan 0.9227294921875 26.123069763183594\n",
      "0.001042987103573978 0.8420095443725586 nan 0.732177734375 25.269550323486328\n",
      "0.0010414248099550605 0.8419084548950195 nan 0.5228271484375 23.5225830078125\n",
      "0.0010408901143819094 0.8419479131698608 nan 0.7281494140625 22.316747665405273\n",
      "0.0010361658642068505 0.8418972492218018 nan 0.7994384765625 21.244775772094727\n",
      "0.0010430682450532913 0.8419406414031982 nan 0.65478515625 21.382944107055664\n",
      "0.0010418068850412965 0.8418620228767395 nan 2.0107421875 19.033050537109375\n",
      "0.0010360514279454947 0.8418797850608826 nan 2.0509033203125 18.986858367919922\n",
      "0.0010368087096139789 0.8418880105018616 nan 1.81494140625 19.2180118560791\n",
      "0.0010368492221459746 0.8419063687324524 nan 1.5240478515625 19.502025604248047\n",
      "0.001033922890201211 0.841938316822052 nan 0.2490234375 19.772972106933594\n",
      "0.00103549484629184 0.8419068455696106 nan 0.56640625 18.4566707611084\n",
      "0.0010323252063244581 0.8418483734130859 nan 1.5123291015625 16.515676498413086\n",
      "0.0010350279044359922 0.8418570756912231 nan 1.3045654296875 16.71963119506836\n",
      "0.001056840643286705 0.8418123722076416 nan 0.012451171875 17.021896362304688\n",
      "0.0010342819150537252 0.8418304324150085 nan 0.278564453125 15.742398262023926\n",
      "0.001032789470627904 0.8417949676513672 nan 0.4114990234375 14.610957145690918\n",
      "0.0010352483950555325 0.8417330980300903 nan 0.4156494140625 13.607699394226074\n",
      "0.0010373375844210386 0.841765820980072 nan 0.3116455078125 13.70915412902832\n",
      "0.0010355303529649973 0.8417434096336365 nan 0.328857421875 12.692605972290039\n",
      "0.0010363595793023705 0.8417553305625916 nan 0.205810546875 12.81326675415039\n",
      "0.0010367640061303973 0.8417670130729675 nan 0.061767578125 12.954818725585938\n",
      "0.0010401024483144283 0.8417358994483948 nan 1.0994873046875 11.917634010314941\n",
      "0.001041831448674202 0.8417118787765503 nan 0.4488525390625 11.568155288696289\n",
      "0.001043500378727913 0.8417065739631653 nan 0.97607421875 11.040215492248535\n",
      "ExcitatoryL5\n",
      "ExcitatoryL6\n",
      "OtherInhibitory\n",
      "we use seurat to predict\n",
      "Rscript Benchmarking/Seurat_CellAssigment.r FigureData/Figure4/Dataset7_STARmap/Simulated_STARmap/combined_spatial_count.txt FigureData/Figure4/Dataset7_STARmap/Rawdata/scRNA_count.txt FigureData/Figure4/Dataset7_STARmap/Rawdata/scRNA_annotate.txt subclass FigureData/Figure4/Dataset7_STARmap/Test/\n"
     ]
    },
    {
     "ename": "FileNotFoundError",
     "evalue": "[Errno 2] No such file or directory: 'FigureData/Figure4/Dataset7_STARmap/Test/Seurat_alignment.txt'",
     "output_type": "error",
     "traceback": [
      "\u001b[0;31m---------------------------------------------------------------------------\u001b[0m",
      "\u001b[0;31mFileNotFoundError\u001b[0m                         Traceback (most recent call last)",
      "\u001b[0;32m<ipython-input-3-d2b21eee5a85>\u001b[0m in \u001b[0;36m<module>\u001b[0;34m\u001b[0m\n\u001b[1;32m     36\u001b[0m \u001b[0mTools\u001b[0m \u001b[0;34m=\u001b[0m \u001b[0;34m[\u001b[0m\u001b[0;34m'novoSpaRc'\u001b[0m\u001b[0;34m,\u001b[0m\u001b[0;34m'SpaOTsc'\u001b[0m\u001b[0;34m,\u001b[0m\u001b[0;34m'Seurat'\u001b[0m\u001b[0;34m,\u001b[0m\u001b[0;34m'Tangram'\u001b[0m\u001b[0;34m]\u001b[0m\u001b[0;34m\u001b[0m\u001b[0;34m\u001b[0m\u001b[0m\n\u001b[1;32m     37\u001b[0m \u001b[0;31m### prediction\u001b[0m\u001b[0;34m\u001b[0m\u001b[0;34m\u001b[0m\u001b[0;34m\u001b[0m\u001b[0m\n\u001b[0;32m---> 38\u001b[0;31m \u001b[0mMC\u001b[0m\u001b[0;34m.\u001b[0m\u001b[0mworkstart\u001b[0m\u001b[0;34m(\u001b[0m\u001b[0mTools\u001b[0m\u001b[0;34m)\u001b[0m\u001b[0;34m\u001b[0m\u001b[0;34m\u001b[0m\u001b[0m\n\u001b[0m\u001b[1;32m     39\u001b[0m \u001b[0mtime_end\u001b[0m\u001b[0;34m=\u001b[0m\u001b[0mtime\u001b[0m\u001b[0;34m.\u001b[0m\u001b[0mtime\u001b[0m\u001b[0;34m(\u001b[0m\u001b[0;34m)\u001b[0m\u001b[0;34m\u001b[0m\u001b[0;34m\u001b[0m\u001b[0m\n\u001b[1;32m     40\u001b[0m \u001b[0mprint\u001b[0m\u001b[0;34m(\u001b[0m\u001b[0;34m'STARmap datasets prediction time cost'\u001b[0m\u001b[0;34m,\u001b[0m\u001b[0;34m(\u001b[0m\u001b[0mtime_end\u001b[0m\u001b[0;34m-\u001b[0m\u001b[0mtime_start\u001b[0m\u001b[0;34m)\u001b[0m\u001b[0;34m/\u001b[0m\u001b[0;36m60\u001b[0m\u001b[0;34m,\u001b[0m\u001b[0;34m'minutes'\u001b[0m\u001b[0;34m)\u001b[0m\u001b[0;34m\u001b[0m\u001b[0;34m\u001b[0m\u001b[0m\n",
      "\u001b[0;32m~/SpatialBenchmarking/Benchmarking/CellAssigment.py\u001b[0m in \u001b[0;36mworkstart\u001b[0;34m(self, Tools)\u001b[0m\n\u001b[1;32m    288\u001b[0m             \u001b[0mself\u001b[0m\u001b[0;34m.\u001b[0m\u001b[0mTangram\u001b[0m\u001b[0;34m(\u001b[0m\u001b[0;34m)\u001b[0m\u001b[0;34m\u001b[0m\u001b[0;34m\u001b[0m\u001b[0m\n\u001b[1;32m    289\u001b[0m         \u001b[0;32mif\u001b[0m \u001b[0;34m\"Seurat\"\u001b[0m \u001b[0;32min\u001b[0m \u001b[0mTools\u001b[0m\u001b[0;34m:\u001b[0m\u001b[0;34m\u001b[0m\u001b[0;34m\u001b[0m\u001b[0m\n\u001b[0;32m--> 290\u001b[0;31m             \u001b[0mself\u001b[0m\u001b[0;34m.\u001b[0m\u001b[0mSeurat\u001b[0m\u001b[0;34m(\u001b[0m\u001b[0;34m)\u001b[0m\u001b[0;34m\u001b[0m\u001b[0;34m\u001b[0m\u001b[0m\n\u001b[0m\u001b[1;32m    291\u001b[0m         \u001b[0;32mif\u001b[0m \u001b[0;34m\"SpaOTsc\"\u001b[0m \u001b[0;32min\u001b[0m \u001b[0mTools\u001b[0m\u001b[0;34m:\u001b[0m\u001b[0;34m\u001b[0m\u001b[0;34m\u001b[0m\u001b[0m\n\u001b[1;32m    292\u001b[0m             \u001b[0mself\u001b[0m\u001b[0;34m.\u001b[0m\u001b[0mSpaOTsc\u001b[0m\u001b[0;34m(\u001b[0m\u001b[0;34m)\u001b[0m\u001b[0;34m\u001b[0m\u001b[0;34m\u001b[0m\u001b[0m\n",
      "\u001b[0;32m~/SpatialBenchmarking/Benchmarking/CellAssigment.py\u001b[0m in \u001b[0;36mSeurat\u001b[0;34m(self)\u001b[0m\n\u001b[1;32m    258\u001b[0m         \u001b[0mos\u001b[0m\u001b[0;34m.\u001b[0m\u001b[0msystem\u001b[0m\u001b[0;34m(\u001b[0m\u001b[0;34m'Rscript Benchmarking/Seurat_CellAssigment.r '\u001b[0m \u001b[0;34m+\u001b[0m \u001b[0mspatial_df\u001b[0m \u001b[0;34m+\u001b[0m \u001b[0;34m' '\u001b[0m \u001b[0;34m+\u001b[0m \u001b[0mrna_df\u001b[0m \u001b[0;34m+\u001b[0m \u001b[0;34m' '\u001b[0m \u001b[0;34m+\u001b[0m \u001b[0mself\u001b[0m\u001b[0;34m.\u001b[0m\u001b[0mscrna_annotationfiles\u001b[0m \u001b[0;34m+\u001b[0m \u001b[0;34m' '\u001b[0m \u001b[0;34m+\u001b[0m \u001b[0mself\u001b[0m\u001b[0;34m.\u001b[0m\u001b[0mannotatetype\u001b[0m \u001b[0;34m+\u001b[0m \u001b[0;34m' '\u001b[0m \u001b[0;34m+\u001b[0m \u001b[0mself\u001b[0m\u001b[0;34m.\u001b[0m\u001b[0moutdir\u001b[0m\u001b[0;34m)\u001b[0m\u001b[0;34m\u001b[0m\u001b[0;34m\u001b[0m\u001b[0m\n\u001b[1;32m    259\u001b[0m         \u001b[0mprint\u001b[0m \u001b[0;34m(\u001b[0m\u001b[0;34m'Rscript Benchmarking/Seurat_CellAssigment.r '\u001b[0m \u001b[0;34m+\u001b[0m \u001b[0mspatial_df\u001b[0m \u001b[0;34m+\u001b[0m \u001b[0;34m' '\u001b[0m \u001b[0;34m+\u001b[0m \u001b[0mrna_df\u001b[0m \u001b[0;34m+\u001b[0m \u001b[0;34m' '\u001b[0m \u001b[0;34m+\u001b[0m \u001b[0mself\u001b[0m\u001b[0;34m.\u001b[0m\u001b[0mscrna_annotationfiles\u001b[0m \u001b[0;34m+\u001b[0m \u001b[0;34m' '\u001b[0m \u001b[0;34m+\u001b[0m \u001b[0mself\u001b[0m\u001b[0;34m.\u001b[0m\u001b[0mannotatetype\u001b[0m \u001b[0;34m+\u001b[0m \u001b[0;34m' '\u001b[0m \u001b[0;34m+\u001b[0m \u001b[0mself\u001b[0m\u001b[0;34m.\u001b[0m\u001b[0moutdir\u001b[0m\u001b[0;34m)\u001b[0m\u001b[0;34m\u001b[0m\u001b[0;34m\u001b[0m\u001b[0m\n\u001b[0;32m--> 260\u001b[0;31m         \u001b[0mseurat_results\u001b[0m \u001b[0;34m=\u001b[0m \u001b[0mpd\u001b[0m\u001b[0;34m.\u001b[0m\u001b[0mread_csv\u001b[0m\u001b[0;34m(\u001b[0m\u001b[0mself\u001b[0m\u001b[0;34m.\u001b[0m\u001b[0moutdir\u001b[0m \u001b[0;34m+\u001b[0m \u001b[0;34m'Seurat_alignment.txt'\u001b[0m\u001b[0;34m,\u001b[0m \u001b[0mindex_col\u001b[0m\u001b[0;34m=\u001b[0m\u001b[0;36m0\u001b[0m\u001b[0;34m)\u001b[0m\u001b[0;34m\u001b[0m\u001b[0;34m\u001b[0m\u001b[0m\n\u001b[0m\u001b[1;32m    261\u001b[0m         \u001b[0mseurat_results\u001b[0m \u001b[0;34m=\u001b[0m \u001b[0mseurat_results\u001b[0m\u001b[0;34m.\u001b[0m\u001b[0miloc\u001b[0m\u001b[0;34m[\u001b[0m\u001b[0;34m:\u001b[0m\u001b[0;34m,\u001b[0m\u001b[0;36m1\u001b[0m\u001b[0;34m:\u001b[0m\u001b[0;34m-\u001b[0m\u001b[0;36m1\u001b[0m\u001b[0;34m]\u001b[0m\u001b[0;34m\u001b[0m\u001b[0;34m\u001b[0m\u001b[0m\n\u001b[1;32m    262\u001b[0m         \u001b[0mCols\u001b[0m \u001b[0;34m=\u001b[0m \u001b[0mseurat_results\u001b[0m\u001b[0;34m.\u001b[0m\u001b[0mcolumns\u001b[0m\u001b[0;34m\u001b[0m\u001b[0;34m\u001b[0m\u001b[0m\n",
      "\u001b[0;32m~/anaconda3/lib/python3.7/site-packages/pandas/io/parsers.py\u001b[0m in \u001b[0;36mread_csv\u001b[0;34m(filepath_or_buffer, sep, delimiter, header, names, index_col, usecols, squeeze, prefix, mangle_dupe_cols, dtype, engine, converters, true_values, false_values, skipinitialspace, skiprows, skipfooter, nrows, na_values, keep_default_na, na_filter, verbose, skip_blank_lines, parse_dates, infer_datetime_format, keep_date_col, date_parser, dayfirst, cache_dates, iterator, chunksize, compression, thousands, decimal, lineterminator, quotechar, quoting, doublequote, escapechar, comment, encoding, dialect, error_bad_lines, warn_bad_lines, delim_whitespace, low_memory, memory_map, float_precision)\u001b[0m\n\u001b[1;32m    684\u001b[0m     )\n\u001b[1;32m    685\u001b[0m \u001b[0;34m\u001b[0m\u001b[0m\n\u001b[0;32m--> 686\u001b[0;31m     \u001b[0;32mreturn\u001b[0m \u001b[0m_read\u001b[0m\u001b[0;34m(\u001b[0m\u001b[0mfilepath_or_buffer\u001b[0m\u001b[0;34m,\u001b[0m \u001b[0mkwds\u001b[0m\u001b[0;34m)\u001b[0m\u001b[0;34m\u001b[0m\u001b[0;34m\u001b[0m\u001b[0m\n\u001b[0m\u001b[1;32m    687\u001b[0m \u001b[0;34m\u001b[0m\u001b[0m\n\u001b[1;32m    688\u001b[0m \u001b[0;34m\u001b[0m\u001b[0m\n",
      "\u001b[0;32m~/anaconda3/lib/python3.7/site-packages/pandas/io/parsers.py\u001b[0m in \u001b[0;36m_read\u001b[0;34m(filepath_or_buffer, kwds)\u001b[0m\n\u001b[1;32m    450\u001b[0m \u001b[0;34m\u001b[0m\u001b[0m\n\u001b[1;32m    451\u001b[0m     \u001b[0;31m# Create the parser.\u001b[0m\u001b[0;34m\u001b[0m\u001b[0;34m\u001b[0m\u001b[0;34m\u001b[0m\u001b[0m\n\u001b[0;32m--> 452\u001b[0;31m     \u001b[0mparser\u001b[0m \u001b[0;34m=\u001b[0m \u001b[0mTextFileReader\u001b[0m\u001b[0;34m(\u001b[0m\u001b[0mfp_or_buf\u001b[0m\u001b[0;34m,\u001b[0m \u001b[0;34m**\u001b[0m\u001b[0mkwds\u001b[0m\u001b[0;34m)\u001b[0m\u001b[0;34m\u001b[0m\u001b[0;34m\u001b[0m\u001b[0m\n\u001b[0m\u001b[1;32m    453\u001b[0m \u001b[0;34m\u001b[0m\u001b[0m\n\u001b[1;32m    454\u001b[0m     \u001b[0;32mif\u001b[0m \u001b[0mchunksize\u001b[0m \u001b[0;32mor\u001b[0m \u001b[0miterator\u001b[0m\u001b[0;34m:\u001b[0m\u001b[0;34m\u001b[0m\u001b[0;34m\u001b[0m\u001b[0m\n",
      "\u001b[0;32m~/anaconda3/lib/python3.7/site-packages/pandas/io/parsers.py\u001b[0m in \u001b[0;36m__init__\u001b[0;34m(self, f, engine, **kwds)\u001b[0m\n\u001b[1;32m    944\u001b[0m             \u001b[0mself\u001b[0m\u001b[0;34m.\u001b[0m\u001b[0moptions\u001b[0m\u001b[0;34m[\u001b[0m\u001b[0;34m\"has_index_names\"\u001b[0m\u001b[0;34m]\u001b[0m \u001b[0;34m=\u001b[0m \u001b[0mkwds\u001b[0m\u001b[0;34m[\u001b[0m\u001b[0;34m\"has_index_names\"\u001b[0m\u001b[0;34m]\u001b[0m\u001b[0;34m\u001b[0m\u001b[0;34m\u001b[0m\u001b[0m\n\u001b[1;32m    945\u001b[0m \u001b[0;34m\u001b[0m\u001b[0m\n\u001b[0;32m--> 946\u001b[0;31m         \u001b[0mself\u001b[0m\u001b[0;34m.\u001b[0m\u001b[0m_make_engine\u001b[0m\u001b[0;34m(\u001b[0m\u001b[0mself\u001b[0m\u001b[0;34m.\u001b[0m\u001b[0mengine\u001b[0m\u001b[0;34m)\u001b[0m\u001b[0;34m\u001b[0m\u001b[0;34m\u001b[0m\u001b[0m\n\u001b[0m\u001b[1;32m    947\u001b[0m \u001b[0;34m\u001b[0m\u001b[0m\n\u001b[1;32m    948\u001b[0m     \u001b[0;32mdef\u001b[0m \u001b[0mclose\u001b[0m\u001b[0;34m(\u001b[0m\u001b[0mself\u001b[0m\u001b[0;34m)\u001b[0m\u001b[0;34m:\u001b[0m\u001b[0;34m\u001b[0m\u001b[0;34m\u001b[0m\u001b[0m\n",
      "\u001b[0;32m~/anaconda3/lib/python3.7/site-packages/pandas/io/parsers.py\u001b[0m in \u001b[0;36m_make_engine\u001b[0;34m(self, engine)\u001b[0m\n\u001b[1;32m   1176\u001b[0m     \u001b[0;32mdef\u001b[0m \u001b[0m_make_engine\u001b[0m\u001b[0;34m(\u001b[0m\u001b[0mself\u001b[0m\u001b[0;34m,\u001b[0m \u001b[0mengine\u001b[0m\u001b[0;34m=\u001b[0m\u001b[0;34m\"c\"\u001b[0m\u001b[0;34m)\u001b[0m\u001b[0;34m:\u001b[0m\u001b[0;34m\u001b[0m\u001b[0;34m\u001b[0m\u001b[0m\n\u001b[1;32m   1177\u001b[0m         \u001b[0;32mif\u001b[0m \u001b[0mengine\u001b[0m \u001b[0;34m==\u001b[0m \u001b[0;34m\"c\"\u001b[0m\u001b[0;34m:\u001b[0m\u001b[0;34m\u001b[0m\u001b[0;34m\u001b[0m\u001b[0m\n\u001b[0;32m-> 1178\u001b[0;31m             \u001b[0mself\u001b[0m\u001b[0;34m.\u001b[0m\u001b[0m_engine\u001b[0m \u001b[0;34m=\u001b[0m \u001b[0mCParserWrapper\u001b[0m\u001b[0;34m(\u001b[0m\u001b[0mself\u001b[0m\u001b[0;34m.\u001b[0m\u001b[0mf\u001b[0m\u001b[0;34m,\u001b[0m \u001b[0;34m**\u001b[0m\u001b[0mself\u001b[0m\u001b[0;34m.\u001b[0m\u001b[0moptions\u001b[0m\u001b[0;34m)\u001b[0m\u001b[0;34m\u001b[0m\u001b[0;34m\u001b[0m\u001b[0m\n\u001b[0m\u001b[1;32m   1179\u001b[0m         \u001b[0;32melse\u001b[0m\u001b[0;34m:\u001b[0m\u001b[0;34m\u001b[0m\u001b[0;34m\u001b[0m\u001b[0m\n\u001b[1;32m   1180\u001b[0m             \u001b[0;32mif\u001b[0m \u001b[0mengine\u001b[0m \u001b[0;34m==\u001b[0m \u001b[0;34m\"python\"\u001b[0m\u001b[0;34m:\u001b[0m\u001b[0;34m\u001b[0m\u001b[0;34m\u001b[0m\u001b[0m\n",
      "\u001b[0;32m~/anaconda3/lib/python3.7/site-packages/pandas/io/parsers.py\u001b[0m in \u001b[0;36m__init__\u001b[0;34m(self, src, **kwds)\u001b[0m\n\u001b[1;32m   2006\u001b[0m         \u001b[0mkwds\u001b[0m\u001b[0;34m[\u001b[0m\u001b[0;34m\"usecols\"\u001b[0m\u001b[0;34m]\u001b[0m \u001b[0;34m=\u001b[0m \u001b[0mself\u001b[0m\u001b[0;34m.\u001b[0m\u001b[0musecols\u001b[0m\u001b[0;34m\u001b[0m\u001b[0;34m\u001b[0m\u001b[0m\n\u001b[1;32m   2007\u001b[0m \u001b[0;34m\u001b[0m\u001b[0m\n\u001b[0;32m-> 2008\u001b[0;31m         \u001b[0mself\u001b[0m\u001b[0;34m.\u001b[0m\u001b[0m_reader\u001b[0m \u001b[0;34m=\u001b[0m \u001b[0mparsers\u001b[0m\u001b[0;34m.\u001b[0m\u001b[0mTextReader\u001b[0m\u001b[0;34m(\u001b[0m\u001b[0msrc\u001b[0m\u001b[0;34m,\u001b[0m \u001b[0;34m**\u001b[0m\u001b[0mkwds\u001b[0m\u001b[0;34m)\u001b[0m\u001b[0;34m\u001b[0m\u001b[0;34m\u001b[0m\u001b[0m\n\u001b[0m\u001b[1;32m   2009\u001b[0m         \u001b[0mself\u001b[0m\u001b[0;34m.\u001b[0m\u001b[0munnamed_cols\u001b[0m \u001b[0;34m=\u001b[0m \u001b[0mself\u001b[0m\u001b[0;34m.\u001b[0m\u001b[0m_reader\u001b[0m\u001b[0;34m.\u001b[0m\u001b[0munnamed_cols\u001b[0m\u001b[0;34m\u001b[0m\u001b[0;34m\u001b[0m\u001b[0m\n\u001b[1;32m   2010\u001b[0m \u001b[0;34m\u001b[0m\u001b[0m\n",
      "\u001b[0;32mpandas/_libs/parsers.pyx\u001b[0m in \u001b[0;36mpandas._libs.parsers.TextReader.__cinit__\u001b[0;34m()\u001b[0m\n",
      "\u001b[0;32mpandas/_libs/parsers.pyx\u001b[0m in \u001b[0;36mpandas._libs.parsers.TextReader._setup_parser_source\u001b[0;34m()\u001b[0m\n",
      "\u001b[0;31mFileNotFoundError\u001b[0m: [Errno 2] No such file or directory: 'FigureData/Figure4/Dataset7_STARmap/Test/Seurat_alignment.txt'"
     ]
    }
   ],
   "source": [
    "#import the package \"CellAssigment\" to directly predict the cell locations.\n",
    "import Benchmarking.CellAssigment as CellAssigment\n",
    "\n",
    "time_start=time.time()\n",
    "### input data directory\n",
    "PATH = 'FigureData/Figure4/Dataset7_STARmap/'\n",
    "\n",
    "### scRNA-seq count files (genes X cells, each row is a gene and each col is a cell)\n",
    "scRNA = PATH + 'Rawdata/scRNA_count.txt'\n",
    "\n",
    "### spatial transcriptomics count files (each col is a gene)\n",
    "spatial_count = PATH + 'Simulated_STARmap/combined_spatial_count.txt'\n",
    "\n",
    "###spatial location file (spots X coordinates, each col is a spot coordinates. Please note that the file has no index).\n",
    "location = PATH + 'Simulated_STARmap/combined_Locations.txt'\n",
    "\n",
    "### count files containing the number of cells in each spot for Tangram (each row is a spot index and each col is a cell )\n",
    "cell_counts = PATH + 'Simulated_STARmap/combined_cell_counts.txt'\n",
    "\n",
    "### scRNA cell annotation files (each row is a cell and each col is a cell annotation)\n",
    "scrna_meta = PATH + 'Rawdata/scRNA_annotate.txt'\n",
    "\n",
    "### In scRNA cell annotation files,for one cell  you may have different cell annotation, choose a columns as a annotation for input\n",
    "annotatetype = 'subclass'\n",
    "\n",
    "### Outfile directory\n",
    "outdir = PATH + 'Test/'\n",
    "if not os.path.exists(outdir):\n",
    "    os.mkdir(outdir)\n",
    "\n",
    "### Running\n",
    "MC = CellAssigment.MappingCell(RNA_path = scRNA, Spatial_path = spatial_count, location_path = location, \n",
    "                               count_path = cell_counts, scrna_annotation = scrna_meta, \n",
    "                               annotatetype = annotatetype,outdir = outdir)\n",
    "### choose tools you you want use for prediction\n",
    "Tools = ['novoSpaRc','SpaOTsc','Seurat','Tangram']\n",
    "### prediction\n",
    "MC.workstart(Tools)\n",
    "time_end=time.time()\n",
    "print('STARmap datasets prediction time cost',(time_end-time_start)/60,'minutes')\n"
   ]
  },
  {
   "cell_type": "code",
   "execution_count": null,
   "metadata": {},
   "outputs": [],
   "source": []
  }
 ],
 "metadata": {
  "kernelspec": {
   "display_name": "Python 3",
   "language": "python",
   "name": "python3"
  },
  "language_info": {
   "codemirror_mode": {
    "name": "ipython",
    "version": 3
   },
   "file_extension": ".py",
   "mimetype": "text/x-python",
   "name": "python",
   "nbconvert_exporter": "python",
   "pygments_lexer": "ipython3",
   "version": "3.7.3"
  }
 },
 "nbformat": 4,
 "nbformat_minor": 4
}
