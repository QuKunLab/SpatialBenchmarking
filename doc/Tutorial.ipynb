{
 "cells": [
  {
   "cell_type": "markdown",
   "metadata": {},
   "source": [
    "import packages\n"
   ]
  },
  {
   "cell_type": "code",
   "execution_count": 1,
   "metadata": {},
   "outputs": [],
   "source": [
    "import numpy as np\n",
    "import pandas as pd\n",
    "import sys\n",
    "import os\n",
    "import time as tm\n",
    "import pickle\n",
    "from functools import partial\n",
    "import scipy.stats as st\n",
    "from scipy.stats import wasserstein_distance\n",
    "import scipy.stats\n",
    "import copy\n",
    "from sklearn.model_selection import KFold\n",
    "import pandas as pd\n",
    "import multiprocessing\n",
    "import matplotlib as mpl \n",
    "import matplotlib.pyplot as plt\n",
    "import scanpy as sc\n",
    "import warnings\n",
    "import subprocess\n",
    "import seaborn as sns\n",
    "from sklearn.metrics import mean_squared_error\n",
    "from scipy.spatial.distance import jensenshannon\n",
    "from scipy.stats import pearsonr,ttest_ind,mannwhitneyu\n",
    "import matplotlib\n",
    "import time"
   ]
  },
  {
   "cell_type": "code",
   "execution_count": 2,
   "metadata": {},
   "outputs": [],
   "source": [
    "###please make sure that you have changed the directory to 'SpatialBenchmarking'.\n",
    "os.chdir('../')"
   ]
  },
  {
   "cell_type": "markdown",
   "metadata": {},
   "source": [
    "Predict gene spatial distribution of undetected genes"
   ]
  },
  {
   "cell_type": "markdown",
   "metadata": {},
   "source": [
    "Prepared files"
   ]
  },
  {
   "cell_type": "code",
   "execution_count": 3,
   "metadata": {},
   "outputs": [],
   "source": [
    "### First, you must download the data and put it in \"FigureData/Figure2/Dataset2_osmFISH/Rawdata\" directory\n",
    "    #The data link: https://drive.google.com/file/d/1ugoZtGHwoK6CLGVK4kWehLscqJqNNha4/view?usp=sharing\n",
    "    #1): scRNA-seq count files (eg. scRNA_count.txt); \n",
    "         # genes X cells, each row is a gene and each col is a cell.\n",
    "    #2): spatial transcriptomics count files (eg. Insitu_count.txt);\n",
    "         # spots X genes, each col is a gene. Please note that the file has no index\n",
    "    #3): spatial location files (eg. Locations.txt); \n",
    "         # each col is a spot coordinates. Please note that the file has no index.\n",
    "         # default: None. It is necessary when you use SpaOTsc or novoSpaRc to integrate datasets.\n",
    "    #4): count files containing the number of cells in each spot for Tangram(option) (eg. count.txt);\n",
    "         # each row represents the number of cells in each spot. Please note that has no index and the file columns must be 'cell_counts'\n",
    "         # default: None. It is necessary when you use Tangram_seq functions to integrate datasets.\n",
    "         # Please note that Tangram can be used in two ways : Tangram_image or Tangram_seq.\n",
    "         # Only when  you have information file that containing the number of cells in each spot, you can use Tangram_seq.\n"
   ]
  },
  {
   "cell_type": "code",
   "execution_count": 4,
   "metadata": {},
   "outputs": [
    {
     "name": "stdout",
     "output_type": "stream",
     "text": [
      "Please note you are using count expression matrix to predict\n"
     ]
    },
    {
     "name": "stderr",
     "output_type": "stream",
     "text": [
      "Trying to set attribute `.obs` of view, copying.\n",
      "Trying to set attribute `.obs` of view, copying.\n"
     ]
    },
    {
     "name": "stdout",
     "output_type": "stream",
     "text": [
      "\u001b[34mINFO\u001b[0m      No batch_key inputted, assuming all cells are same batch                           \n",
      "\u001b[34mINFO\u001b[0m      No label_key inputted, assuming all cells have same label                          \n",
      "\u001b[34mINFO\u001b[0m      Using data from adata.X                                                            \n",
      "\u001b[34mINFO\u001b[0m      Computing library size prior per batch                                             \n",
      "\u001b[34mINFO\u001b[0m      Successfully registered anndata object containing \u001b[1;34m3405\u001b[0m cells, \u001b[1;34m33\u001b[0m vars, \u001b[1;34m1\u001b[0m batches, \u001b[1;34m1\u001b[0m\n",
      "          labels, and \u001b[1;34m0\u001b[0m proteins. Also registered \u001b[1;34m0\u001b[0m extra categorical covariates and \u001b[1;34m0\u001b[0m extra \n",
      "          continuous covariates.                                                             \n",
      "\u001b[34mINFO\u001b[0m      Please do not further modify adata until model is trained.                         \n",
      "\u001b[34mINFO\u001b[0m      No batch_key inputted, assuming all cells are same batch                           \n",
      "\u001b[34mINFO\u001b[0m      No label_key inputted, assuming all cells have same label                          \n",
      "\u001b[34mINFO\u001b[0m      Using data from adata.X                                                            \n",
      "\u001b[34mINFO\u001b[0m      Computing library size prior per batch                                             \n",
      "\u001b[34mINFO\u001b[0m      Successfully registered anndata object containing \u001b[1;34m5613\u001b[0m cells, \u001b[1;34m53\u001b[0m vars, \u001b[1;34m1\u001b[0m batches, \u001b[1;34m1\u001b[0m\n",
      "          labels, and \u001b[1;34m0\u001b[0m proteins. Also registered \u001b[1;34m0\u001b[0m extra categorical covariates and \u001b[1;34m0\u001b[0m extra \n",
      "          continuous covariates.                                                             \n",
      "\u001b[34mINFO\u001b[0m      Please do not further modify adata until model is trained.                         \n",
      "\u001b[34mINFO\u001b[0m      Training for \u001b[1;34m200\u001b[0m epochs.                                                           \n",
      "Training...: 100%|██████████| 200/200 [05:50<00:00,  1.75s/it]\n",
      "number of cells and genes in the matrix: (5613, 30527)\n",
      "Setting up for reconstruction ... done ( 77.5 seconds )\n",
      "It.  |Err         \n",
      "-------------------\n",
      "    0|3.830581e-04|\n",
      "0.00017003242101054639 0.4879019260406494 nan 568.885498046875 1154.95751953125\n",
      "0.007099645212292671 0.9507437348365784 nan 0.052490234375 176.5531005859375\n",
      "0.006625942420214415 0.9547532796859741 nan 0.14990234375 45.69941329956055\n",
      "0.006561789195984602 0.9556216597557068 nan 0.1279296875 26.245145797729492\n",
      "0.0065299756824970245 0.9559930562973022 nan 0.038818359375 20.494834899902344\n",
      "0.006509941536933184 0.9561933875083923 nan 0.02197265625 17.03395652770996\n",
      "0.006506357342004776 0.9563297033309937 nan 0.066162109375 14.594219207763672\n",
      "0.00649217190220952 0.9564161896705627 nan 0.0888671875 13.6556978225708\n",
      "0.006486204452812672 0.9564879536628723 nan 0.017822265625 13.127785682678223\n",
      "0.0064865299500525 0.9565447568893433 nan 0.1611328125 12.570239067077637\n"
     ]
    }
   ],
   "source": [
    "import numpy as np\n",
    "import pandas as pd\n",
    "#Import the package \"SpatialGenes\" to directly predict the gene spatial distribution for any spatial datasets.\n",
    "import Benchmarking.SpatialGenes as SpatialGenes\n",
    "### input data directory\n",
    "PATH = 'FigureData/Figure2/Dataset2_osmFISH/Rawdata/' \n",
    "\n",
    "### scRNA-seq count files (genes X cells, each row is a gene and each col is a cell)\n",
    "RNA_path = PATH + 'scRNA_count.txt'\n",
    "\n",
    "### spatial transcriptomics count files (each col is a gene)\n",
    "Spatial_path =  PATH + 'Insitu_count.txt'\n",
    "\n",
    "### spatial location files (each col is a spot coordinate)\n",
    "location_path = PATH + 'Locations.txt'\n",
    "\n",
    "### Read data\n",
    "RNA_data = pd.read_table(RNA_path,header=0,index_col = 0) \n",
    "Spatial_data = pd.read_table(Spatial_path,sep='\\t',header=0)\n",
    "\n",
    "### genes for integration and prediction. Please note it must be a list.\n",
    "train_list = list(RNA_data.index&Spatial_data.columns)\n",
    "test_list = list(set(RNA_data.index) - set(Spatial_data.columns))[:20]\n",
    "\n",
    "### Outfile directory\n",
    "outdir =  'FigureData/Figure2/Dataset2_osmFISH/Test/'\n",
    "if not os.path.exists(outdir):\n",
    "        os.mkdir(outdir)\n",
    "        \n",
    "### Running \n",
    "test = SpatialGenes.GenePrediction(RNA_path, Spatial_path, location_path, train_list = train_list, test_list = test_list, outdir = outdir)\n",
    "### choose tools you you want use for prediction\n",
    "Methods = ['SpaGE','novoSpaRc','gimVI','Tangram_image','SpaOTsc','Seurat','LIGER',] ### Tangram can be used for prediction by Tangram_seq or Tangram_image functions\n",
    "### Prediction\n",
    "Result = test.Imputing(Methods)\n"
   ]
  },
  {
   "cell_type": "code",
   "execution_count": null,
   "metadata": {},
   "outputs": [],
   "source": []
  },
  {
   "cell_type": "markdown",
   "metadata": {},
   "source": [
    "Prediction Cell Locations"
   ]
  },
  {
   "cell_type": "markdown",
   "metadata": {},
   "source": [
    "Prepared files"
   ]
  },
  {
   "cell_type": "code",
   "execution_count": null,
   "metadata": {},
   "outputs": [],
   "source": [
    "### First, you must download scRNA count file and put it in \"FigureData/Figure4/Dataset7_STARmap/Rawdata\" directory\n",
    "    #The data link: https://drive.google.com/file/d/1ugoZtGHwoK6CLGVK4kWehLscqJqNNha4/view?usp=sharing\n",
    "#1): scRNA-seq count files (eg. scRNA_count.txt); \n",
    "         # genes X cells, each row is a gene and each col is a cell.\n",
    "#2): spatial transcriptomics count files (eg. combined_spatial_count.txt);\n",
    "         # spots X genes, each col is a gene. Please note that the file has no index.\n",
    "#3): spatial location files (eg. combined_Locations.txt); \n",
    "         # spots X coordinates, each col is a spot coordinates. Please note that the file has no index\n",
    "         # default: None. It is necessary when you use SpaOTsc or novoSpaRc to integrate datasets.\n",
    "#4): scRNA cell annotation files (scRNA_annotate.txt)\n",
    "         # cells X celltype, each row is a cell and the col is cell annotation. \n",
    "         # for one cell you may have different cell annotation type.\n",
    "         # Please note that the file must have a columns named 'celltype'\n",
    "#5): count files containing the number of cells in each spot for Tangram (option) (eg. combined_cell_counts.txt).\n",
    "         # spots X numbers. each row is a spot index and the row represents the number of cells in each spot. \n",
    "         # Please note that the file columns must be 'cell_count'\n",
    "         # default: None. It is necessary when you use Tangram to integrate datasets."
   ]
  },
  {
   "cell_type": "code",
   "execution_count": 5,
   "metadata": {},
   "outputs": [
    {
     "name": "stdout",
     "output_type": "stream",
     "text": [
      "number of cells and genes in the matrix: (14249, 34041)\n",
      "Setting up for reconstruction ... done ( 465.94 seconds )\n",
      "It.  |Err         \n",
      "-------------------\n",
      "    0|2.190068e-04|\n",
      "we use novoSpaRc to predict\n",
      "ExcitatoryL5\n",
      "ExcitatoryL6\n",
      "OtherInhibitory\n",
      "we use Tangram to predict\n",
      "0.09076955169439316 0.6858276128768921 nan 5619.28125 2946.156005859375\n",
      "0.0008631595992483199 0.8465062379837036 nan 8.8082275390625 612.3810424804688\n",
      "0.0009698084904812276 0.8448601961135864 nan 1.552001953125 262.5634765625\n",
      "0.001001683296635747 0.844245433807373 nan 2.128662109375 192.12814331054688\n",
      "0.0010057826293632388 0.8437371253967285 nan 1.4385986328125 156.19810485839844\n",
      "0.001021502073854208 0.8433876037597656 nan 1.3245849609375 130.38800048828125\n",
      "0.001006260747089982 0.8432501554489136 nan 0.0450439453125 115.1630630493164\n",
      "0.0010170600144192576 0.8430820107460022 nan 0.55615234375 104.26310729980469\n",
      "0.0010116890771314502 0.8427683115005493 nan 1.54345703125 90.98375701904297\n",
      "0.001018314273096621 0.8426405787467957 nan 1.0509033203125 83.98941040039062\n",
      "0.0010224690195173025 0.8426541090011597 nan 1.385009765625 77.23894500732422\n",
      "0.0010313796810805798 0.8426534533500671 nan 0.85498046875 75.54840850830078\n",
      "0.0010456453310325742 0.8424146175384521 nan 0.961181640625 67.59046173095703\n",
      "0.00102818023879081 0.8422014713287354 nan 1.9857177734375 61.428916931152344\n",
      "0.0010341857559978962 0.8422955274581909 nan 2.183349609375 60.13297653198242\n",
      "0.0010390975512564182 0.8420750498771667 nan 0.698486328125 57.74839782714844\n",
      "0.0010432526469230652 0.8421133160591125 nan 0.7584228515625 54.48686218261719\n",
      "0.0010385634377598763 0.8421116471290588 nan 0.8790283203125 53.30650329589844\n",
      "0.0010458806063979864 0.8420348763465881 nan 1.712646484375 49.448326110839844\n",
      "0.001038478803820908 0.8420013785362244 nan 0.41455078125 48.29936218261719\n",
      "0.001038167392835021 0.8418999910354614 nan 1.9073486328125 42.27029037475586\n",
      "0.0010438916506245732 0.8418872952461243 nan 0.2509765625 40.91141128540039\n",
      "0.0010435283184051514 0.8417820930480957 nan 0.0814208984375 38.1445198059082\n",
      "0.0010421531042084098 0.8418231010437012 nan 0.5804443359375 36.560813903808594\n",
      "0.0010407785885035992 0.8418203592300415 nan 0.7867431640625 35.34370040893555\n",
      "0.0010596929350867867 0.8417418003082275 nan 1.4388427734375 32.69089126586914\n",
      "0.0010449140099808574 0.8417688608169556 nan 1.1783447265625 32.930973052978516\n",
      "0.0010425361106172204 0.8416640758514404 nan 0.7420654296875 32.36872100830078\n",
      "0.001043506315909326 0.8417582511901855 nan 0.85107421875 32.23017120361328\n",
      "0.0010404952336102724 0.8413786888122559 nan 0.033935546875 31.0806827545166\n",
      "0.0010430015390738845 0.8416597843170166 nan 0.375244140625 29.695297241210938\n",
      "0.001040597795508802 0.8416221141815186 nan 0.6185302734375 28.449249267578125\n",
      "0.001050052116625011 0.8415367603302002 nan 0.3179931640625 26.778263092041016\n",
      "0.0010402626357972622 0.8415992856025696 nan 1.029052734375 26.033784866333008\n",
      "0.0010443016653880477 0.8415793180465698 nan 1.2099609375 24.850618362426758\n",
      "0.0010659637628123164 0.8415393233299255 nan 1.2000732421875 23.85796546936035\n",
      "0.0010433689458295703 0.8415635824203491 nan 0.9608154296875 24.08079719543457\n",
      "0.0010478541953489184 0.8415499925613403 nan 0.2427978515625 22.80570411682129\n",
      "0.0010435120202600956 0.8414505124092102 nan 0.476318359375 21.756999969482422\n",
      "0.0010480646742507815 0.8415553569793701 nan 0.003662109375 22.032283782958984\n",
      "0.001045498880557716 0.8414663672447205 nan 0.5863037109375 19.459447860717773\n",
      "0.0010479030897840858 0.8414808511734009 nan 0.3668212890625 19.673320770263672\n",
      "0.001047312980517745 0.841497540473938 nan 0.1224365234375 19.911880493164062\n",
      "0.0010506205726414919 0.8414748907089233 nan 1.2691650390625 18.76546287536621\n",
      "0.0010476659517735243 0.8414883017539978 nan 1.0361328125 18.99361228942871\n",
      "0.0010455447481945157 0.8415015935897827 nan 0.7459716796875 19.277692794799805\n",
      "0.0010476940078660846 0.8413960337638855 nan 2.434814453125 16.59575653076172\n",
      "0.0010458363685756922 0.8414099812507629 nan 2.250244140625 16.776931762695312\n",
      "0.0010503963567316532 0.8414292931556702 nan 2.04296875 16.980867385864258\n",
      "0.0010520688956603408 0.841435968875885 nan 1.788818359375 17.23023796081543\n",
      "0.001047526951879263 0.8414052724838257 nan 1.0816650390625 15.939618110656738\n",
      "0.0010472078574821353 0.841419517993927 nan 0.875 16.14280891418457\n",
      "0.001049601356498897 0.8413927555084229 nan 1.118408203125 14.901215553283691\n",
      "0.001047641271725297 0.8413997888565063 nan 0.934814453125 15.082293510437012\n",
      "0.001044968026690185 0.8413564562797546 nan 0.9776611328125 14.040456771850586\n",
      "0.0010409062961116433 0.8413743376731873 nan 0.9957275390625 14.020329475402832\n",
      "0.0010491759749129415 0.8413875102996826 nan 0.7945556640625 14.218206405639648\n",
      "0.0010450475383549929 0.8412882089614868 nan 2.3221435546875 11.695558547973633\n",
      "0.0010415875585749745 0.841295599937439 nan 2.213623046875 11.80230712890625\n",
      "0.001044834847562015 0.8413114547729492 nan 2.0941162109375 11.92023754119873\n",
      "ExcitatoryL5\n",
      "ExcitatoryL6\n",
      "OtherInhibitory\n",
      "we use seurat to predict\n",
      "Rscript Benchmarking/Seurat_CellAssigment.r FigureData/Figure4/Dataset7_STARmap/Simulated_STARmap/combined_spatial_count.txt FigureData/Figure4/Dataset7_STARmap/Rawdata/scRNA_count.txt FigureData/Figure4/Dataset7_STARmap/Rawdata/scRNA_annotate.txt subclass FigureData/Figure4/Dataset7_STARmap/Test/\n"
     ]
    },
    {
     "ename": "FileNotFoundError",
     "evalue": "[Errno 2] No such file or directory: 'FigureData/Figure4/Dataset7_STARmap/Test/Seurat_alignment.txt'",
     "output_type": "error",
     "traceback": [
      "\u001b[0;31m---------------------------------------------------------------------------\u001b[0m",
      "\u001b[0;31mFileNotFoundError\u001b[0m                         Traceback (most recent call last)",
      "\u001b[0;32m<ipython-input-5-7ae3bf6d126e>\u001b[0m in \u001b[0;36m<module>\u001b[0;34m\u001b[0m\n\u001b[1;32m     36\u001b[0m \u001b[0mTools\u001b[0m \u001b[0;34m=\u001b[0m \u001b[0;34m[\u001b[0m\u001b[0;34m'novoSpaRc'\u001b[0m\u001b[0;34m,\u001b[0m\u001b[0;34m'SpaOTsc'\u001b[0m\u001b[0;34m,\u001b[0m\u001b[0;34m'Seurat'\u001b[0m\u001b[0;34m,\u001b[0m\u001b[0;34m'Tangram'\u001b[0m\u001b[0;34m]\u001b[0m\u001b[0;34m\u001b[0m\u001b[0;34m\u001b[0m\u001b[0m\n\u001b[1;32m     37\u001b[0m \u001b[0;31m### prediction\u001b[0m\u001b[0;34m\u001b[0m\u001b[0;34m\u001b[0m\u001b[0;34m\u001b[0m\u001b[0m\n\u001b[0;32m---> 38\u001b[0;31m \u001b[0mMC\u001b[0m\u001b[0;34m.\u001b[0m\u001b[0mworkstart\u001b[0m\u001b[0;34m(\u001b[0m\u001b[0mTools\u001b[0m\u001b[0;34m)\u001b[0m\u001b[0;34m\u001b[0m\u001b[0;34m\u001b[0m\u001b[0m\n\u001b[0m\u001b[1;32m     39\u001b[0m \u001b[0mtime_end\u001b[0m\u001b[0;34m=\u001b[0m\u001b[0mtime\u001b[0m\u001b[0;34m.\u001b[0m\u001b[0mtime\u001b[0m\u001b[0;34m(\u001b[0m\u001b[0;34m)\u001b[0m\u001b[0;34m\u001b[0m\u001b[0;34m\u001b[0m\u001b[0m\n\u001b[1;32m     40\u001b[0m \u001b[0mprint\u001b[0m\u001b[0;34m(\u001b[0m\u001b[0;34m'STARmap datasets prediction time cost'\u001b[0m\u001b[0;34m,\u001b[0m\u001b[0;34m(\u001b[0m\u001b[0mtime_end\u001b[0m\u001b[0;34m-\u001b[0m\u001b[0mtime_start\u001b[0m\u001b[0;34m)\u001b[0m\u001b[0;34m/\u001b[0m\u001b[0;36m60\u001b[0m\u001b[0;34m,\u001b[0m\u001b[0;34m'minutes'\u001b[0m\u001b[0;34m)\u001b[0m\u001b[0;34m\u001b[0m\u001b[0;34m\u001b[0m\u001b[0m\n",
      "\u001b[0;32m~/SpatialBenchmarking/Benchmarking/CellAssigment.py\u001b[0m in \u001b[0;36mworkstart\u001b[0;34m(self, Tools)\u001b[0m\n\u001b[1;32m    289\u001b[0m             \u001b[0mself\u001b[0m\u001b[0;34m.\u001b[0m\u001b[0mTangram\u001b[0m\u001b[0;34m(\u001b[0m\u001b[0;34m)\u001b[0m\u001b[0;34m\u001b[0m\u001b[0;34m\u001b[0m\u001b[0m\n\u001b[1;32m    290\u001b[0m         \u001b[0;32mif\u001b[0m \u001b[0;34m\"Seurat\"\u001b[0m \u001b[0;32min\u001b[0m \u001b[0mTools\u001b[0m\u001b[0;34m:\u001b[0m\u001b[0;34m\u001b[0m\u001b[0;34m\u001b[0m\u001b[0m\n\u001b[0;32m--> 291\u001b[0;31m             \u001b[0mself\u001b[0m\u001b[0;34m.\u001b[0m\u001b[0mSeurat\u001b[0m\u001b[0;34m(\u001b[0m\u001b[0;34m)\u001b[0m\u001b[0;34m\u001b[0m\u001b[0;34m\u001b[0m\u001b[0m\n\u001b[0m\u001b[1;32m    292\u001b[0m         \u001b[0;32mif\u001b[0m \u001b[0;34m\"SpaOTsc\"\u001b[0m \u001b[0;32min\u001b[0m \u001b[0mTools\u001b[0m\u001b[0;34m:\u001b[0m\u001b[0;34m\u001b[0m\u001b[0;34m\u001b[0m\u001b[0m\n\u001b[1;32m    293\u001b[0m             \u001b[0mself\u001b[0m\u001b[0;34m.\u001b[0m\u001b[0mSpaOTsc\u001b[0m\u001b[0;34m(\u001b[0m\u001b[0;34m)\u001b[0m\u001b[0;34m\u001b[0m\u001b[0;34m\u001b[0m\u001b[0m\n",
      "\u001b[0;32m~/SpatialBenchmarking/Benchmarking/CellAssigment.py\u001b[0m in \u001b[0;36mSeurat\u001b[0;34m(self)\u001b[0m\n\u001b[1;32m    259\u001b[0m         \u001b[0mos\u001b[0m\u001b[0;34m.\u001b[0m\u001b[0msystem\u001b[0m\u001b[0;34m(\u001b[0m\u001b[0;34m'Rscript Benchmarking/Seurat_CellAssigment.r '\u001b[0m \u001b[0;34m+\u001b[0m \u001b[0mspatial_df\u001b[0m \u001b[0;34m+\u001b[0m \u001b[0;34m' '\u001b[0m \u001b[0;34m+\u001b[0m \u001b[0mrna_df\u001b[0m \u001b[0;34m+\u001b[0m \u001b[0;34m' '\u001b[0m \u001b[0;34m+\u001b[0m \u001b[0mself\u001b[0m\u001b[0;34m.\u001b[0m\u001b[0mscrna_annotationfiles\u001b[0m \u001b[0;34m+\u001b[0m \u001b[0;34m' '\u001b[0m \u001b[0;34m+\u001b[0m \u001b[0mself\u001b[0m\u001b[0;34m.\u001b[0m\u001b[0mannotatetype\u001b[0m \u001b[0;34m+\u001b[0m \u001b[0;34m' '\u001b[0m \u001b[0;34m+\u001b[0m \u001b[0mself\u001b[0m\u001b[0;34m.\u001b[0m\u001b[0moutdir\u001b[0m\u001b[0;34m)\u001b[0m\u001b[0;34m\u001b[0m\u001b[0;34m\u001b[0m\u001b[0m\n\u001b[1;32m    260\u001b[0m         \u001b[0mprint\u001b[0m \u001b[0;34m(\u001b[0m\u001b[0;34m'Rscript Benchmarking/Seurat_CellAssigment.r '\u001b[0m \u001b[0;34m+\u001b[0m \u001b[0mspatial_df\u001b[0m \u001b[0;34m+\u001b[0m \u001b[0;34m' '\u001b[0m \u001b[0;34m+\u001b[0m \u001b[0mrna_df\u001b[0m \u001b[0;34m+\u001b[0m \u001b[0;34m' '\u001b[0m \u001b[0;34m+\u001b[0m \u001b[0mself\u001b[0m\u001b[0;34m.\u001b[0m\u001b[0mscrna_annotationfiles\u001b[0m \u001b[0;34m+\u001b[0m \u001b[0;34m' '\u001b[0m \u001b[0;34m+\u001b[0m \u001b[0mself\u001b[0m\u001b[0;34m.\u001b[0m\u001b[0mannotatetype\u001b[0m \u001b[0;34m+\u001b[0m \u001b[0;34m' '\u001b[0m \u001b[0;34m+\u001b[0m \u001b[0mself\u001b[0m\u001b[0;34m.\u001b[0m\u001b[0moutdir\u001b[0m\u001b[0;34m)\u001b[0m\u001b[0;34m\u001b[0m\u001b[0;34m\u001b[0m\u001b[0m\n\u001b[0;32m--> 261\u001b[0;31m         \u001b[0mseurat_results\u001b[0m \u001b[0;34m=\u001b[0m \u001b[0mpd\u001b[0m\u001b[0;34m.\u001b[0m\u001b[0mread_csv\u001b[0m\u001b[0;34m(\u001b[0m\u001b[0mself\u001b[0m\u001b[0;34m.\u001b[0m\u001b[0moutdir\u001b[0m \u001b[0;34m+\u001b[0m \u001b[0;34m'Seurat_alignment.txt'\u001b[0m\u001b[0;34m,\u001b[0m \u001b[0mindex_col\u001b[0m\u001b[0;34m=\u001b[0m\u001b[0;36m0\u001b[0m\u001b[0;34m)\u001b[0m\u001b[0;34m\u001b[0m\u001b[0;34m\u001b[0m\u001b[0m\n\u001b[0m\u001b[1;32m    262\u001b[0m         \u001b[0mseurat_results\u001b[0m \u001b[0;34m=\u001b[0m \u001b[0mseurat_results\u001b[0m\u001b[0;34m.\u001b[0m\u001b[0miloc\u001b[0m\u001b[0;34m[\u001b[0m\u001b[0;34m:\u001b[0m\u001b[0;34m,\u001b[0m\u001b[0;36m1\u001b[0m\u001b[0;34m:\u001b[0m\u001b[0;34m-\u001b[0m\u001b[0;36m1\u001b[0m\u001b[0;34m]\u001b[0m\u001b[0;34m\u001b[0m\u001b[0;34m\u001b[0m\u001b[0m\n\u001b[1;32m    263\u001b[0m         \u001b[0mCols\u001b[0m \u001b[0;34m=\u001b[0m \u001b[0mseurat_results\u001b[0m\u001b[0;34m.\u001b[0m\u001b[0mcolumns\u001b[0m\u001b[0;34m\u001b[0m\u001b[0;34m\u001b[0m\u001b[0m\n",
      "\u001b[0;32m~/anaconda3/lib/python3.7/site-packages/pandas/io/parsers.py\u001b[0m in \u001b[0;36mread_csv\u001b[0;34m(filepath_or_buffer, sep, delimiter, header, names, index_col, usecols, squeeze, prefix, mangle_dupe_cols, dtype, engine, converters, true_values, false_values, skipinitialspace, skiprows, skipfooter, nrows, na_values, keep_default_na, na_filter, verbose, skip_blank_lines, parse_dates, infer_datetime_format, keep_date_col, date_parser, dayfirst, cache_dates, iterator, chunksize, compression, thousands, decimal, lineterminator, quotechar, quoting, doublequote, escapechar, comment, encoding, dialect, error_bad_lines, warn_bad_lines, delim_whitespace, low_memory, memory_map, float_precision)\u001b[0m\n\u001b[1;32m    684\u001b[0m     )\n\u001b[1;32m    685\u001b[0m \u001b[0;34m\u001b[0m\u001b[0m\n\u001b[0;32m--> 686\u001b[0;31m     \u001b[0;32mreturn\u001b[0m \u001b[0m_read\u001b[0m\u001b[0;34m(\u001b[0m\u001b[0mfilepath_or_buffer\u001b[0m\u001b[0;34m,\u001b[0m \u001b[0mkwds\u001b[0m\u001b[0;34m)\u001b[0m\u001b[0;34m\u001b[0m\u001b[0;34m\u001b[0m\u001b[0m\n\u001b[0m\u001b[1;32m    687\u001b[0m \u001b[0;34m\u001b[0m\u001b[0m\n\u001b[1;32m    688\u001b[0m \u001b[0;34m\u001b[0m\u001b[0m\n",
      "\u001b[0;32m~/anaconda3/lib/python3.7/site-packages/pandas/io/parsers.py\u001b[0m in \u001b[0;36m_read\u001b[0;34m(filepath_or_buffer, kwds)\u001b[0m\n\u001b[1;32m    450\u001b[0m \u001b[0;34m\u001b[0m\u001b[0m\n\u001b[1;32m    451\u001b[0m     \u001b[0;31m# Create the parser.\u001b[0m\u001b[0;34m\u001b[0m\u001b[0;34m\u001b[0m\u001b[0;34m\u001b[0m\u001b[0m\n\u001b[0;32m--> 452\u001b[0;31m     \u001b[0mparser\u001b[0m \u001b[0;34m=\u001b[0m \u001b[0mTextFileReader\u001b[0m\u001b[0;34m(\u001b[0m\u001b[0mfp_or_buf\u001b[0m\u001b[0;34m,\u001b[0m \u001b[0;34m**\u001b[0m\u001b[0mkwds\u001b[0m\u001b[0;34m)\u001b[0m\u001b[0;34m\u001b[0m\u001b[0;34m\u001b[0m\u001b[0m\n\u001b[0m\u001b[1;32m    453\u001b[0m \u001b[0;34m\u001b[0m\u001b[0m\n\u001b[1;32m    454\u001b[0m     \u001b[0;32mif\u001b[0m \u001b[0mchunksize\u001b[0m \u001b[0;32mor\u001b[0m \u001b[0miterator\u001b[0m\u001b[0;34m:\u001b[0m\u001b[0;34m\u001b[0m\u001b[0;34m\u001b[0m\u001b[0m\n",
      "\u001b[0;32m~/anaconda3/lib/python3.7/site-packages/pandas/io/parsers.py\u001b[0m in \u001b[0;36m__init__\u001b[0;34m(self, f, engine, **kwds)\u001b[0m\n\u001b[1;32m    944\u001b[0m             \u001b[0mself\u001b[0m\u001b[0;34m.\u001b[0m\u001b[0moptions\u001b[0m\u001b[0;34m[\u001b[0m\u001b[0;34m\"has_index_names\"\u001b[0m\u001b[0;34m]\u001b[0m \u001b[0;34m=\u001b[0m \u001b[0mkwds\u001b[0m\u001b[0;34m[\u001b[0m\u001b[0;34m\"has_index_names\"\u001b[0m\u001b[0;34m]\u001b[0m\u001b[0;34m\u001b[0m\u001b[0;34m\u001b[0m\u001b[0m\n\u001b[1;32m    945\u001b[0m \u001b[0;34m\u001b[0m\u001b[0m\n\u001b[0;32m--> 946\u001b[0;31m         \u001b[0mself\u001b[0m\u001b[0;34m.\u001b[0m\u001b[0m_make_engine\u001b[0m\u001b[0;34m(\u001b[0m\u001b[0mself\u001b[0m\u001b[0;34m.\u001b[0m\u001b[0mengine\u001b[0m\u001b[0;34m)\u001b[0m\u001b[0;34m\u001b[0m\u001b[0;34m\u001b[0m\u001b[0m\n\u001b[0m\u001b[1;32m    947\u001b[0m \u001b[0;34m\u001b[0m\u001b[0m\n\u001b[1;32m    948\u001b[0m     \u001b[0;32mdef\u001b[0m \u001b[0mclose\u001b[0m\u001b[0;34m(\u001b[0m\u001b[0mself\u001b[0m\u001b[0;34m)\u001b[0m\u001b[0;34m:\u001b[0m\u001b[0;34m\u001b[0m\u001b[0;34m\u001b[0m\u001b[0m\n",
      "\u001b[0;32m~/anaconda3/lib/python3.7/site-packages/pandas/io/parsers.py\u001b[0m in \u001b[0;36m_make_engine\u001b[0;34m(self, engine)\u001b[0m\n\u001b[1;32m   1176\u001b[0m     \u001b[0;32mdef\u001b[0m \u001b[0m_make_engine\u001b[0m\u001b[0;34m(\u001b[0m\u001b[0mself\u001b[0m\u001b[0;34m,\u001b[0m \u001b[0mengine\u001b[0m\u001b[0;34m=\u001b[0m\u001b[0;34m\"c\"\u001b[0m\u001b[0;34m)\u001b[0m\u001b[0;34m:\u001b[0m\u001b[0;34m\u001b[0m\u001b[0;34m\u001b[0m\u001b[0m\n\u001b[1;32m   1177\u001b[0m         \u001b[0;32mif\u001b[0m \u001b[0mengine\u001b[0m \u001b[0;34m==\u001b[0m \u001b[0;34m\"c\"\u001b[0m\u001b[0;34m:\u001b[0m\u001b[0;34m\u001b[0m\u001b[0;34m\u001b[0m\u001b[0m\n\u001b[0;32m-> 1178\u001b[0;31m             \u001b[0mself\u001b[0m\u001b[0;34m.\u001b[0m\u001b[0m_engine\u001b[0m \u001b[0;34m=\u001b[0m \u001b[0mCParserWrapper\u001b[0m\u001b[0;34m(\u001b[0m\u001b[0mself\u001b[0m\u001b[0;34m.\u001b[0m\u001b[0mf\u001b[0m\u001b[0;34m,\u001b[0m \u001b[0;34m**\u001b[0m\u001b[0mself\u001b[0m\u001b[0;34m.\u001b[0m\u001b[0moptions\u001b[0m\u001b[0;34m)\u001b[0m\u001b[0;34m\u001b[0m\u001b[0;34m\u001b[0m\u001b[0m\n\u001b[0m\u001b[1;32m   1179\u001b[0m         \u001b[0;32melse\u001b[0m\u001b[0;34m:\u001b[0m\u001b[0;34m\u001b[0m\u001b[0;34m\u001b[0m\u001b[0m\n\u001b[1;32m   1180\u001b[0m             \u001b[0;32mif\u001b[0m \u001b[0mengine\u001b[0m \u001b[0;34m==\u001b[0m \u001b[0;34m\"python\"\u001b[0m\u001b[0;34m:\u001b[0m\u001b[0;34m\u001b[0m\u001b[0;34m\u001b[0m\u001b[0m\n",
      "\u001b[0;32m~/anaconda3/lib/python3.7/site-packages/pandas/io/parsers.py\u001b[0m in \u001b[0;36m__init__\u001b[0;34m(self, src, **kwds)\u001b[0m\n\u001b[1;32m   2006\u001b[0m         \u001b[0mkwds\u001b[0m\u001b[0;34m[\u001b[0m\u001b[0;34m\"usecols\"\u001b[0m\u001b[0;34m]\u001b[0m \u001b[0;34m=\u001b[0m \u001b[0mself\u001b[0m\u001b[0;34m.\u001b[0m\u001b[0musecols\u001b[0m\u001b[0;34m\u001b[0m\u001b[0;34m\u001b[0m\u001b[0m\n\u001b[1;32m   2007\u001b[0m \u001b[0;34m\u001b[0m\u001b[0m\n\u001b[0;32m-> 2008\u001b[0;31m         \u001b[0mself\u001b[0m\u001b[0;34m.\u001b[0m\u001b[0m_reader\u001b[0m \u001b[0;34m=\u001b[0m \u001b[0mparsers\u001b[0m\u001b[0;34m.\u001b[0m\u001b[0mTextReader\u001b[0m\u001b[0;34m(\u001b[0m\u001b[0msrc\u001b[0m\u001b[0;34m,\u001b[0m \u001b[0;34m**\u001b[0m\u001b[0mkwds\u001b[0m\u001b[0;34m)\u001b[0m\u001b[0;34m\u001b[0m\u001b[0;34m\u001b[0m\u001b[0m\n\u001b[0m\u001b[1;32m   2009\u001b[0m         \u001b[0mself\u001b[0m\u001b[0;34m.\u001b[0m\u001b[0munnamed_cols\u001b[0m \u001b[0;34m=\u001b[0m \u001b[0mself\u001b[0m\u001b[0;34m.\u001b[0m\u001b[0m_reader\u001b[0m\u001b[0;34m.\u001b[0m\u001b[0munnamed_cols\u001b[0m\u001b[0;34m\u001b[0m\u001b[0;34m\u001b[0m\u001b[0m\n\u001b[1;32m   2010\u001b[0m \u001b[0;34m\u001b[0m\u001b[0m\n",
      "\u001b[0;32mpandas/_libs/parsers.pyx\u001b[0m in \u001b[0;36mpandas._libs.parsers.TextReader.__cinit__\u001b[0;34m()\u001b[0m\n",
      "\u001b[0;32mpandas/_libs/parsers.pyx\u001b[0m in \u001b[0;36mpandas._libs.parsers.TextReader._setup_parser_source\u001b[0;34m()\u001b[0m\n",
      "\u001b[0;31mFileNotFoundError\u001b[0m: [Errno 2] No such file or directory: 'FigureData/Figure4/Dataset7_STARmap/Test/Seurat_alignment.txt'"
     ]
    }
   ],
   "source": [
    "#import the package \"CellAssigment\" to directly predict the cell locations.\n",
    "import Benchmarking.CellAssigment as CellAssigment\n",
    "\n",
    "time_start=time.time()\n",
    "### input data directory\n",
    "PATH = 'FigureData/Figure4/Dataset7_STARmap/'\n",
    "\n",
    "### scRNA-seq count files (genes X cells, each row is a gene and each col is a cell)\n",
    "scRNA = PATH + 'Rawdata/scRNA_count.txt'\n",
    "\n",
    "### spatial transcriptomics count files (each col is a gene)\n",
    "spatial_count = PATH + 'Simulated_STARmap/combined_spatial_count.txt'\n",
    "\n",
    "###spatial location file (spots X coordinates, each col is a spot coordinates. Please note that the file has no index).\n",
    "location = PATH + 'Simulated_STARmap/combined_Locations.txt'\n",
    "\n",
    "### count files containing the number of cells in each spot for Tangram (each row is a spot index and each col is a cell )\n",
    "cell_counts = PATH + 'Simulated_STARmap/combined_cell_counts.txt'\n",
    "\n",
    "### scRNA cell annotation files (each row is a cell and each col is a cell annotation)\n",
    "scrna_meta = PATH + 'Rawdata/scRNA_annotate.txt'\n",
    "\n",
    "### In scRNA cell annotation files,for one cell you may have different cell annotation, choose a columns as a annotation for input\n",
    "annotatetype = 'subclass'\n",
    "\n",
    "### Outfile directory\n",
    "outdir = PATH + 'Test/'\n",
    "if not os.path.exists(outdir):\n",
    "    os.mkdir(outdir)\n",
    "\n",
    "### Running\n",
    "MC = CellAssigment.MappingCell(RNA_path = scRNA, Spatial_path = spatial_count, location_path = location, \n",
    "                               count_path = cell_counts, scrna_annotation = scrna_meta, \n",
    "                               annotatetype = annotatetype,outdir = outdir)\n",
    "### choose tools you you want use for prediction\n",
    "Tools = ['novoSpaRc','SpaOTsc','Seurat','Tangram']\n",
    "### prediction\n",
    "MC.workstart(Tools)\n",
    "time_end=time.time()\n",
    "print('STARmap datasets prediction time cost',(time_end-time_start)/60,'minutes')\n"
   ]
  },
  {
   "cell_type": "code",
   "execution_count": null,
   "metadata": {},
   "outputs": [],
   "source": []
  }
 ],
 "metadata": {
  "kernelspec": {
   "display_name": "Python 3",
   "language": "python",
   "name": "python3"
  },
  "language_info": {
   "codemirror_mode": {
    "name": "ipython",
    "version": 3
   },
   "file_extension": ".py",
   "mimetype": "text/x-python",
   "name": "python",
   "nbconvert_exporter": "python",
   "pygments_lexer": "ipython3",
   "version": "3.7.3"
  }
 },
 "nbformat": 4,
 "nbformat_minor": 4
}
