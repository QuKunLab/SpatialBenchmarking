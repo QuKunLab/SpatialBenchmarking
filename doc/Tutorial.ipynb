{
 "cells": [
  {
   "cell_type": "code",
   "execution_count": 11,
   "metadata": {},
   "outputs": [],
   "source": [
    "##import packages\n",
    "import numpy as np\n",
    "import pandas as pd\n",
    "import sys\n",
    "import os\n",
    "import time as tm\n",
    "import pickle\n",
    "from functools import partial\n",
    "import scipy.stats as st\n",
    "from scipy.stats import wasserstein_distance\n",
    "import scipy.stats\n",
    "import copy\n",
    "from sklearn.model_selection import KFold\n",
    "import pandas as pd\n",
    "import multiprocessing\n",
    "import matplotlib as mpl \n",
    "import matplotlib.pyplot as plt\n",
    "import scanpy as sc\n",
    "import warnings\n",
    "import subprocess\n",
    "import seaborn as sns\n",
    "from sklearn.metrics import mean_squared_error\n",
    "from scipy.spatial.distance import jensenshannon\n",
    "from scipy.stats import pearsonr,ttest_ind,mannwhitneyu\n",
    "import matplotlib\n",
    "\n",
    "import Benchmarking.CellAssigment as CellAssigment\n",
    "import Benchmarking.util as util"
   ]
  },
  {
   "cell_type": "code",
   "execution_count": null,
   "metadata": {},
   "outputs": [],
   "source": [
    "os.chdir('../')"
   ]
  },
  {
   "cell_type": "code",
   "execution_count": null,
   "metadata": {},
   "outputs": [],
   "source": [
    "##First, you must download the data and put it in \"Rawdata\" directory\n",
    "## The scRNA count link: https://drive.google.com/file/d/1ugoZtGHwoK6CLGVK4kWehLscqJqNNha4/view?usp=sharing"
   ]
  },
  {
   "cell_type": "code",
   "execution_count": null,
   "metadata": {},
   "outputs": [],
   "source": [
    "#### Predict gene spatial distribution of undetected genes\n",
    "#You can import the package \"SpatialGenes\" to directly predict the gene spatial distribution for any spatial datasets.\n",
    "\n",
    "# Before forecasting, please prepare the following files: \n",
    "#1): scRNA count files; \n",
    "#2): spatial count files; \n",
    "#3): spatial location files for novoSpaRc and SpaOTsc; \n",
    "#4): count files containing the number of cells in each space point for Tangram(option). \n",
    "\n",
    "# For more details, please see the Benchmarking/SpatialGenes.py and Figure Data"
   ]
  },
  {
   "cell_type": "code",
   "execution_count": null,
   "metadata": {},
   "outputs": [],
   "source": [
    "import os\n",
    "import numpy as np\n",
    "import pandas as pd\n",
    "import Benchmarking.SpatialGenes as SpatialGenes\n",
    "import os\n",
    "\n",
    "PATH = 'FigureData/Figure2/Dataset2_osmFISH/Rawdata/'\n",
    "RNA_path = PATH + 'scRNA_count.txt'\n",
    "Spatial_path =  PATH + 'Insitu_count.txt'\n",
    "location_path = PATH + 'Locations.txt'\n",
    "RNA_data = pd.read_table(RNA_path,header=0,index_col = 0)\n",
    "Spatial_data = pd.read_table(Spatial_path,sep='\\t',header=0)\n",
    "train_list = list(RNA_data.index&Spatial_data.columns)\n",
    "print (train_list)\n",
    "test_list = list(set(RNA_data.index) - set(Spatial_data.columns))[:20]\n",
    "\n",
    "outdir =  'FigureData/Figure2/Dataset2_osmFISH/Test/'\n",
    "if not os.path.exists(outdir):\n",
    "        os.mkdir(outdir)\n",
    "test = SpatialGenes.GenePrediction(RNA_path, Spatial_path, location_path, train_list = train_list, test_list = test_list, outdir = outdir)\n",
    "Methods = ['SpaGE','novoSpaRc','Tangram','gimVI','Tangram_image','Seurat','LIGER']\n",
    "Result = test.Imputing(Methods)"
   ]
  },
  {
   "cell_type": "code",
   "execution_count": null,
   "metadata": {},
   "outputs": [],
   "source": [
    "#You can import the package \"CellAssigment\" to directly predict the cell locations for any spatial datasets.\n",
    "\n",
    "# Before forecasting, please prepare the following files: \n",
    "#1): scRNA count files; \n",
    "#2): spatial count files; \n",
    "# 3): scRNA cell annotation files; \n",
    "#4): count files containing the number of cell types in each space point (option). \n",
    "\n",
    "# For more details, please see the Benchmarking/CellAssigment.py and Figure Data"
   ]
  },
  {
   "cell_type": "code",
   "execution_count": 12,
   "metadata": {},
   "outputs": [],
   "source": [
    "\n",
    "PATH = 'FigureData/Figure4/Dataset7_STARmap/'\n",
    "\n",
    "scRNA = PATH + 'Rawdata/scRNA_count.txt'\n",
    "spatial_count = PATH + 'Simulated_STARmap/combined_spatial_count.txt'\n",
    "cell_counts = PATH + 'Simulated_STARmap/combined_cell_counts.txt'\n",
    "scrna_meta = PATH + 'Rawdata/scRNA_annotate.txt'\n",
    "annotatetype = 'subclass'\n",
    "gd_result = PATH + 'Simulated_STARmap/combined_spot_clusters.txt'\n",
    "outdir = PATH + 'Result_STARmap/'\n",
    "if not os.path.exists(outdir):\n",
    "    os.mkdir(outdir)\n",
    "location = PATH + 'Simulated_STARmap/combined_Locations.txt'\n",
    "\n"
   ]
  },
  {
   "cell_type": "markdown",
   "metadata": {},
   "source": [
    "# Prediction Cell Locations"
   ]
  },
  {
   "cell_type": "code",
   "execution_count": 13,
   "metadata": {},
   "outputs": [
    {
     "name": "stdout",
     "output_type": "stream",
     "text": [
      "number of cells and genes in the matrix: (14249, 34041)\n",
      "Setting up for reconstruction ... done ( 395.32 seconds )\n",
      "It.  |Err         \n",
      "-------------------\n",
      "    0|2.190068e-04|\n",
      "we use novoSpaRc to predict\n",
      "ExcitatoryL5\n",
      "ExcitatoryL6\n",
      "OtherInhibitory\n",
      "we use Tangram to predict\n",
      "0.09078813344240189 0.6860155463218689 nan 5572.47509765625 2935.65478515625\n",
      "0.0008582484442740679 0.846610963344574 nan 0.4632568359375 605.0641479492188\n",
      "0.0009534684359095991 0.8447835445404053 nan 0.8145751953125 253.78640747070312\n",
      "0.0009968556696549058 0.8440979719161987 nan 0.030517578125 182.12109375\n",
      "0.0010124966502189636 0.8437297940254211 nan 1.901611328125 146.9747772216797\n",
      "0.0010336791165173054 0.8435720801353455 nan 0.6444091796875 126.70153045654297\n",
      "0.0010448655812069774 0.8432793617248535 nan 1.6898193359375 108.32363891601562\n",
      "0.0010440783808007836 0.8430240750312805 nan 1.383544921875 96.95497131347656\n",
      "0.0010445356601849198 0.8429875373840332 nan 0.693115234375 89.00078582763672\n",
      "0.0010386246722191572 0.842876136302948 nan 0.0625 79.94454193115234\n",
      "0.0010533988242968917 0.8428313732147217 nan 0.6689453125 72.02928924560547\n",
      "0.001043888507410884 0.8427340388298035 nan 1.7879638671875 65.82237243652344\n",
      "0.0010431172559037805 0.8427594304084778 nan 0.4906005859375 64.2054443359375\n",
      "0.001049904734827578 0.842697262763977 nan 0.474853515625 59.9533576965332\n",
      "0.0010493341833353043 0.8426345586776733 nan 1.8048095703125 56.55763626098633\n",
      "0.00104434322565794 0.8424832820892334 nan 0.234375 55.03376007080078\n",
      "0.0010614048223942518 0.8424624800682068 nan 1.89111328125 51.38401412963867\n",
      "0.0010555043118074536 0.8424643278121948 nan 0.4068603515625 49.837318420410156\n",
      "0.0010529025457799435 0.842458963394165 nan 1.1375732421875 48.764320373535156\n",
      "0.0010509648127481341 0.8424472212791443 nan 0.9945068359375 47.187110900878906\n",
      "0.0010512726148590446 0.8421355485916138 nan 1.63623046875 46.304534912109375\n",
      "0.0010510702850297093 0.842320442199707 nan 1.8197021484375 42.33192825317383\n",
      "0.0010506813414394855 0.84234219789505 nan 1.107666015625 41.95928955078125\n",
      "0.0010476676980033517 0.842225193977356 nan 0.7252197265625 39.398101806640625\n",
      "0.0010547754354774952 0.8422728180885315 nan 1.7420654296875 38.359275817871094\n",
      "0.0010576177155598998 0.8422275185585022 nan 1.1392822265625 36.90214920043945\n",
      "0.0010508123086765409 0.8422060608863831 nan 0.6983642578125 35.39020538330078\n",
      "0.0010590762831270695 0.842193067073822 nan 0.482421875 33.58591842651367\n",
      "0.0010577318025752902 0.8422308564186096 nan 0.400390625 32.6801643371582\n",
      "0.001059295842424035 0.8422157764434814 nan 1.62841796875 31.442737579345703\n",
      "0.001066173193976283 0.842086136341095 nan 0.034423828125 30.087907791137695\n",
      "0.0010669399052858353 0.8421441316604614 nan 1.26806640625 28.797983169555664\n",
      "0.0010613553458824754 0.8421204686164856 nan 1.396484375 27.646032333374023\n",
      "0.0010622894624248147 0.8420960903167725 nan 0.798828125 26.263940811157227\n",
      "0.0010622938862070441 0.8421363234519958 nan 0.3184814453125 26.726966857910156\n",
      "0.0010668016038835049 0.842139482498169 nan 0.6121826171875 25.435195922851562\n",
      "0.0010761541780084372 0.8413311243057251 nan 1.5960693359375 21.467100143432617\n",
      "0.0010617251973599195 0.8417807221412659 nan 1.4857177734375 21.568912506103516\n",
      "0.001060049282386899 0.8418564200401306 nan 1.2113037109375 21.83609962463379\n",
      "0.0010630887700244784 0.8418616652488708 nan 0.2525634765625 22.4178524017334\n",
      "0.0010674213990569115 0.8418794274330139 nan 0.0545654296875 20.981651306152344\n",
      "0.0010651483898982406 0.8418948650360107 nan 0.5009765625 18.543914794921875\n",
      "0.0010663329157978296 0.8419314026832581 nan 0.3028564453125 18.736196517944336\n",
      "0.0010668355971574783 0.8419498205184937 nan 0.0699462890625 18.963932037353516\n",
      "0.0010659078834578395 0.8419256806373596 nan 1.1553955078125 17.878202438354492\n",
      "0.0010598101653158665 0.8418984413146973 nan 0.243896484375 16.789840698242188\n",
      "0.0010727690532803535 0.8419293761253357 nan 0.0631103515625 16.966510772705078\n",
      "0.0010631494224071503 0.8419110178947449 nan 1.1090087890625 15.920658111572266\n",
      "0.001067563658580184 0.8419250249862671 nan 0.8829345703125 16.13967514038086\n",
      "0.0010652284836396575 0.8418889045715332 nan 0.988037109375 15.038763999938965\n",
      "0.0010706346947699785 0.8419070243835449 nan 0.7880859375 15.23282241821289\n",
      "0.0010780785232782364 0.8418823480606079 nan 0.8702392578125 14.153553009033203\n",
      "0.0010720952413976192 0.841857373714447 nan 0.702392578125 13.322693824768066\n",
      "0.0010684282751753926 0.8418747186660767 nan 0.7431640625 13.27938461303711\n",
      "0.0010656686499714851 0.8418766856193542 nan 0.6087646484375 13.41106128692627\n",
      "0.001066670985892415 0.8418982028961182 nan 0.45263671875 13.564188957214355\n",
      "0.0010653402423486114 0.8418788313865662 nan 0.5516357421875 12.466207504272461\n",
      "0.00106613349635154 0.8418878316879272 nan 0.42578125 12.590059280395508\n",
      "0.0010643255664035678 0.8418911695480347 nan 0.28662109375 12.727492332458496\n",
      "0.001063182600773871 0.8419023156166077 nan 0.1279296875 12.884546279907227\n",
      "ExcitatoryL5\n",
      "ExcitatoryL6\n",
      "OtherInhibitory\n",
      "we use SpaOTsc to predict\n",
      "ExcitatoryL5\n",
      "ExcitatoryL6\n",
      "OtherInhibitory\n"
     ]
    }
   ],
   "source": [
    "MC = CellAssigment.MappingCell(RNA_path = scRNA, Spatial_path = spatial_count, location_path = location, \n",
    "                               count_path = cell_counts, scrna_annotation = scrna_meta, gd_result = gd_result,\n",
    "                               annotatetype = annotatetype, outdir = outdir)\n",
    "Tools = ['novoSpaRc','Seurat','SpaOTsc','Tangram']\n",
    "Tools = ['novoSpaRc','SpaOTsc','Tangram']\n",
    "MC.workstart(Tools)\n"
   ]
  },
  {
   "cell_type": "markdown",
   "metadata": {},
   "source": [
    "# Calculate the accuracy of prediction"
   ]
  },
  {
   "cell_type": "code",
   "execution_count": 15,
   "metadata": {},
   "outputs": [
    {
     "name": "stdout",
     "output_type": "stream",
     "text": [
      "We Use Celltype Number 12\n",
      "We Use Celltype Number 12\n",
      "We Use Celltype Number 12\n",
      "We Use Celltype Number 12\n"
     ]
    }
   ],
   "source": [
    "PATH = 'FigureData/Figure4/Dataset7_STARmap/'\n",
    "Methods = ['Seurat','Tangram','SpaOTsc','novoSpaRc']\n",
    "outdir = PATH + 'Result_STARmap/'\n",
    "util.CalculateMetric(outdir, Methods, PATH + 'Simulated_STARmap/combined_spot_clusters.txt')  \n"
   ]
  },
  {
   "cell_type": "code",
   "execution_count": null,
   "metadata": {},
   "outputs": [],
   "source": []
  }
 ],
 "metadata": {
  "kernelspec": {
   "display_name": "Python 3",
   "language": "python",
   "name": "python3"
  },
  "language_info": {
   "codemirror_mode": {
    "name": "ipython",
    "version": 3
   },
   "file_extension": ".py",
   "mimetype": "text/x-python",
   "name": "python",
   "nbconvert_exporter": "python",
   "pygments_lexer": "ipython3",
   "version": "3.7.3"
  }
 },
 "nbformat": 4,
 "nbformat_minor": 4
}
