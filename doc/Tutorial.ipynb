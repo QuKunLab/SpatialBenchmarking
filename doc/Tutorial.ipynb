{
 "cells": [
  {
   "cell_type": "code",
   "execution_count": 2,
   "metadata": {},
   "outputs": [],
   "source": [
    "##import packages\n",
    "import numpy as np\n",
    "import pandas as pd\n",
    "import sys\n",
    "import os\n",
    "import time as tm\n",
    "import pickle\n",
    "from functools import partial\n",
    "import scipy.stats as st\n",
    "from scipy.stats import wasserstein_distance\n",
    "import scipy.stats\n",
    "import copy\n",
    "from sklearn.model_selection import KFold\n",
    "import pandas as pd\n",
    "import multiprocessing\n",
    "import matplotlib as mpl \n",
    "import matplotlib.pyplot as plt\n",
    "import scanpy as sc\n",
    "import warnings\n",
    "import subprocess\n",
    "import seaborn as sns\n",
    "from sklearn.metrics import mean_squared_error\n",
    "from scipy.spatial.distance import jensenshannon\n",
    "from scipy.stats import pearsonr,ttest_ind,mannwhitneyu\n",
    "import matplotlib\n",
    "import time\n"
   ]
  },
  {
   "cell_type": "code",
   "execution_count": 3,
   "metadata": {},
   "outputs": [],
   "source": [
    "###please in the SpatialBenchmarking dir.\n",
    "os.chdir('../SpatialBenchmarking')"
   ]
  },
  {
   "cell_type": "code",
   "execution_count": null,
   "metadata": {},
   "outputs": [],
   "source": [
    "##First, you must download the data and put it in \"Rawdata\" directory\n",
    "## The scRNA count link: https://drive.google.com/file/d/1ugoZtGHwoK6CLGVK4kWehLscqJqNNha4/view?usp=sharing"
   ]
  },
  {
   "cell_type": "code",
   "execution_count": null,
   "metadata": {},
   "outputs": [],
   "source": [
    "#### Predict gene spatial distribution of undetected genes\n",
    "#You can import the package \"SpatialGenes\" to directly predict the gene spatial distribution for any spatial datasets.\n",
    "\n",
    "# Before forecasting, please prepare the following files: \n",
    "#1): scRNA count files; \n",
    "#2): spatial count files; \n",
    "#3): spatial location files for novoSpaRc and SpaOTsc; \n",
    "#4): count files containing the number of cells in each space point for Tangram(option). \n",
    "\n",
    "# For more details, please see the Benchmarking/SpatialGenes.py and Figure Data"
   ]
  },
  {
   "cell_type": "code",
   "execution_count": null,
   "metadata": {},
   "outputs": [],
   "source": [
    "\n",
    "import os\n",
    "import numpy as np\n",
    "import pandas as pd\n",
    "import Benchmarking.SpatialGenes as SpatialGenes\n",
    "import os\n",
    "\n",
    "PATH = 'FigureData/Figure2/Dataset2_osmFISH/Rawdata/'\n",
    "RNA_path = PATH + 'scRNA_count.txt'\n",
    "Spatial_path =  PATH + 'Insitu_count.txt'\n",
    "location_path = PATH + 'Locations.txt'\n",
    "RNA_data = pd.read_table(RNA_path,header=0,index_col = 0)\n",
    "Spatial_data = pd.read_table(Spatial_path,sep='\\t',header=0)\n",
    "train_list = list(RNA_data.index&Spatial_data.columns)\n",
    "print (train_list)\n",
    "test_list = list(set(RNA_data.index) - set(Spatial_data.columns))[:20]\n",
    "\n",
    "outdir =  'FigureData/Figure2/Dataset2_osmFISH/Test/'\n",
    "if not os.path.exists(outdir):\n",
    "        os.mkdir(outdir)\n",
    "test = SpatialGenes.GenePrediction(RNA_path, Spatial_path, location_path, train_list = train_list, test_list = test_list, outdir = outdir)\n",
    "Methods = ['SpaGE','novoSpaRc','SpaOTsc','gimVI','Tangram_image','Seurat','LIGER']\n",
    "Result = test.Imputing(Methods)\n"
   ]
  },
  {
   "cell_type": "code",
   "execution_count": null,
   "metadata": {},
   "outputs": [],
   "source": [
    "#You can import the package \"CellAssigment\" to directly predict the cell locations for any spatial datasets.\n",
    "\n",
    "# Before forecasting, please prepare the following files: \n",
    "#1): scRNA count files; \n",
    "#2): spatial count files; \n",
    "# 3): scRNA cell annotation files; \n",
    "#4): count files containing the number of cell types in each space point (option). \n",
    "\n",
    "# For more details, please see the Benchmarking/CellAssigment.py and Figure Data"
   ]
  },
  {
   "cell_type": "markdown",
   "metadata": {},
   "source": [
    "# Prediction Cell Locations"
   ]
  },
  {
   "cell_type": "code",
   "execution_count": 9,
   "metadata": {},
   "outputs": [
    {
     "name": "stdout",
     "output_type": "stream",
     "text": [
      "number of cells and genes in the matrix: (14249, 34041)\n",
      "Setting up for reconstruction ... done ( 376.36 seconds )\n",
      "It.  |Err         \n",
      "-------------------\n",
      "    0|2.190068e-04|\n",
      "we use novoSpaRc to predict\n",
      "ExcitatoryL5\n",
      "ExcitatoryL6\n",
      "OtherInhibitory\n",
      "we use Tangram to predict\n",
      "0.09125454723834991 0.686063826084137 nan 5598.78466796875 2939.373779296875\n",
      "0.0008253253763541579 0.8465343117713928 nan 47.7979736328125 588.3236694335938\n",
      "0.0009055041009560227 0.8450734615325928 nan 0.4716796875 263.7731018066406\n",
      "0.0009306891006417572 0.8443456888198853 nan 1.2908935546875 183.37374877929688\n",
      "0.0009484390029683709 0.8441138863563538 nan 1.586181640625 150.9069366455078\n",
      "0.0009556114091537893 0.8438555002212524 nan 1.17919921875 129.7989959716797\n",
      "0.0009613407892175019 0.8436142206192017 nan 0.0242919921875 115.2951889038086\n",
      "0.0009679995127953589 0.8435179591178894 nan 0.064453125 104.615234375\n",
      "0.0009550309623591602 0.8433952927589417 nan 0.3533935546875 94.38447570800781\n",
      "0.0009670383296906948 0.8432570695877075 nan 1.2042236328125 85.4912338256836\n",
      "0.0009630159474909306 0.8431299924850464 nan 1.8096923828125 78.63835144042969\n",
      "0.0009541626204736531 0.8428683876991272 nan 0.00927734375 73.0537338256836\n",
      "0.0009687426500022411 0.8428054451942444 nan 1.6929931640625 65.77188873291016\n",
      "0.0009782507549971342 0.8427297472953796 nan 0.2305908203125 61.30016326904297\n",
      "0.000968910229858011 0.8427083492279053 nan 1.9830322265625 57.37705993652344\n",
      "0.0009706036653369665 0.8426448106765747 nan 1.26416015625 56.036136627197266\n",
      "0.0009718370856717229 0.8426423072814941 nan 1.7957763671875 52.4659309387207\n",
      "0.0009874735260382295 0.8425815105438232 nan 0.30419921875 50.75779342651367\n",
      "0.00097543781157583 0.8425713777542114 nan 0.0589599609375 47.15248489379883\n",
      "0.0009789905743673444 0.8424990773200989 nan 1.3104248046875 43.88676834106445\n",
      "0.0009763819398358464 0.8425001502037048 nan 0.6763916015625 42.501773834228516\n",
      "0.000971804722212255 0.8425085544586182 nan 0.8912353515625 41.26538848876953\n",
      "0.0009630087297409773 0.8424196839332581 nan 1.04541015625 38.112281799316406\n",
      "0.0009693332831375301 0.8423991203308105 nan 0.9500732421875 37.08409881591797\n",
      "0.00097085494780913 0.8423888683319092 nan 1.48486328125 35.63806915283203\n",
      "0.0009778760140761733 0.8423313498497009 nan 0.70068359375 34.41202926635742\n",
      "0.0009725461713969707 0.8422142863273621 nan 0.5767822265625 31.544340133666992\n",
      "0.0009728238801471889 0.842322051525116 nan 0.115234375 31.978212356567383\n",
      "0.0009761381079442799 0.8422909379005432 nan 0.3331298828125 30.757335662841797\n",
      "0.000981768243946135 0.8420463800430298 nan 0.572998046875 28.53253173828125\n",
      "0.000977373099885881 0.842231810092926 nan 0.6754150390625 28.40389060974121\n",
      "0.0009617788600735366 0.8421938419342041 nan 0.81396484375 27.258888244628906\n",
      "0.0009711679886095226 0.8421766757965088 nan 0.9808349609375 26.090408325195312\n",
      "0.0009764455608092248 0.8421491384506226 nan 1.0140380859375 25.05037498474121\n",
      "0.0009668591665104032 0.8421308398246765 nan 1.1968994140625 23.867197036743164\n",
      "0.0009632193250581622 0.8421106934547424 nan 1.19677734375 22.865331649780273\n",
      "0.0009585279040038586 0.8421222567558289 nan 0.91748046875 23.122034072875977\n",
      "0.0009673782042227685 0.842099666595459 nan 1.12158203125 21.93039894104004\n",
      "0.0009591116686351597 0.8421071767807007 nan 0.8258056640625 22.21882438659668\n",
      "0.0009709002333693206 0.8420364856719971 nan 2.3336181640625 19.715749740600586\n",
      "0.0009606671519577503 0.8420428037643433 nan 2.1239013671875 19.91954803466797\n",
      "0.0009703331161290407 0.8420606851577759 nan 1.8697509765625 20.167863845825195\n",
      "0.0009812854696065187 0.84206223487854 nan 0.548583984375 20.478548049926758\n",
      "0.0009652929729782045 0.842018723487854 nan 1.1217041015625 17.91583251953125\n",
      "0.0009710434242151678 0.8420380353927612 nan 0.9208984375 18.111921310424805\n",
      "0.0009658370981924236 0.8420471549034119 nan 0.60791015625 18.41164779663086\n",
      "0.0009616038878448308 0.841780960559845 nan 0.7017822265625 16.332080841064453\n",
      "0.0009640467469580472 0.8419383764266968 nan 0.90771484375 16.121597290039062\n",
      "0.0009681830415502191 0.8419628143310547 nan 0.723388671875 16.302396774291992\n",
      "0.0009737928630784154 0.8419216871261597 nan 0.787109375 15.238950729370117\n",
      "0.0009742293623276055 0.8419448733329773 nan 0.664306640625 15.358346939086914\n",
      "0.0009737650980241597 0.8419598937034607 nan 0.4827880859375 15.537202835083008\n",
      "0.0009659378556534648 0.8419666886329651 nan 0.2744140625 15.742602348327637\n",
      "0.0009731044410727918 0.8419406414031982 nan 0.5213623046875 14.497794151306152\n",
      "0.0009695285116322339 0.8419486284255981 nan 0.28515625 14.725129127502441\n",
      "0.000970664550550282 0.8419145345687866 nan 0.5372314453125 13.480321884155273\n",
      "0.0009716699132695794 0.8419289588928223 nan 0.380615234375 13.634215354919434\n",
      "0.0009699701331555843 0.8419368267059326 nan 0.2076416015625 13.804954528808594\n",
      "0.0009679188951849937 0.8419467210769653 nan 0.0086669921875 14.001702308654785\n",
      "0.0009756152285262942 0.8419055938720703 nan 1.326416015625 12.686036109924316\n",
      "ExcitatoryL5\n",
      "ExcitatoryL6\n",
      "OtherInhibitory\n",
      "we use seurat to predict\n",
      "Rscript Benchmarking/Seurat_CellAssigment.r FigureData/Figure4/Dataset7_STARmap/Simulated_STARmap/combined_spatial_count.txt FigureData/Figure4/Dataset7_STARmap/Rawdata/scRNA_count.txt FigureData/Figure4/Dataset7_STARmap/Rawdata/scRNA_annotate.txt subclass FigureData/Figure4/Dataset7_STARmap/Result_STARmap/\n",
      "{'Vip': 'Vip', 'Lamp5': 'OtherInhibitory', 'Sst': 'Sst', 'Sncg': 'OtherInhibitory', 'Serpinf1': 'OtherInhibitory', 'Pvalb': 'Pvalb', 'Endo': 'Endo', 'Peri': 'OtherEndo', 'L6CT': 'ExcitatoryL6', 'L6b': 'ExcitatoryL6', 'L6IT': 'ExcitatoryL6', 'L2and3IT': 'ExcitatoryL2and3', 'CR': 'OtherExcitatory', 'L5PT': 'ExcitatoryL5', 'NP': 'ExcitatoryL5', 'L4': 'ExcitatoryL4', 'L5IT': 'ExcitatoryL5', 'Oligo': 'Olig', 'Meis2': 'OtherInhibitory', 'Astro': 'Astro', 'Macrophage': 'Micro', 'VLMC': 'VLMC', 'SMC': 'Smc'}\n",
      "Index(['prediction.score.Vip', 'prediction.score.Lamp5',\n",
      "       'prediction.score.Sst', 'prediction.score.Sncg',\n",
      "       'prediction.score.Serpinf1', 'prediction.score.Pvalb',\n",
      "       'prediction.score.Endo', 'prediction.score.Peri',\n",
      "       'prediction.score.L6CT', 'prediction.score.L6b',\n",
      "       'prediction.score.L6IT', 'prediction.score.L2and3IT',\n",
      "       'prediction.score.CR', 'prediction.score.L5PT', 'prediction.score.NP',\n",
      "       'prediction.score.L4', 'prediction.score.L5IT',\n",
      "       'prediction.score.Oligo', 'prediction.score.Meis2',\n",
      "       'prediction.score.Astro', 'prediction.score.Macrophage',\n",
      "       'prediction.score.VLMC', 'prediction.score.SMC'],\n",
      "      dtype='object')\n",
      "Index(['Vip', 'Lamp5', 'Sst', 'Sncg', 'Serpinf1', 'Pvalb', 'Endo', 'Peri',\n",
      "       'L6CT', 'L6b', 'L6IT', 'L2and3IT', 'CR', 'L5PT', 'NP', 'L4', 'L5IT',\n",
      "       'Oligo', 'Meis2', 'Astro', 'Macrophage', 'VLMC', 'SMC'],\n",
      "      dtype='object')\n",
      "ExcitatoryL5\n",
      "ExcitatoryL6\n",
      "OtherInhibitory\n",
      "we use SpaOTsc to predict\n",
      "ExcitatoryL5\n",
      "ExcitatoryL6\n",
      "OtherInhibitory\n",
      "STARmap datasets prediction time cost 35.565578532218936 minutes\n"
     ]
    }
   ],
   "source": [
    "import Benchmarking.CellAssigment as CellAssigment\n",
    "import Benchmarking.util as util\n",
    "time_start=time.time()\n",
    "PATH = 'FigureData/Figure4/Dataset7_STARmap/'\n",
    "scRNA = PATH + 'Rawdata/scRNA_count.txt'\n",
    "spatial_count = PATH + 'Simulated_STARmap/combined_spatial_count.txt'\n",
    "cell_counts = PATH + 'Simulated_STARmap/combined_cell_counts.txt'\n",
    "scrna_meta = PATH + 'Rawdata/scRNA_annotate.txt'\n",
    "annotatetype = 'subclass'\n",
    "gd_result = PATH + 'Simulated_STARmap/combined_spot_clusters.txt'\n",
    "outdir = PATH + 'Result_STARmap/'\n",
    "if not os.path.exists(outdir):\n",
    "    os.mkdir(outdir)\n",
    "location = PATH + 'Simulated_STARmap/combined_Locations.txt'\n",
    "\n",
    "MC = CellAssigment.MappingCell(RNA_path = scRNA, Spatial_path = spatial_count, location_path = location, \n",
    "                               count_path = cell_counts, scrna_annotation = scrna_meta, gd_result = gd_result,\n",
    "                               annotatetype = annotatetype, outdir = outdir)\n",
    "Tools = ['novoSpaRc','Seurat','SpaOTsc','Tangram']\n",
    "MC.workstart(Tools)\n",
    "time_end=time.time()\n",
    "print('STARmap datasets prediction time cost',(time_end-time_start)/60,'minutes')"
   ]
  },
  {
   "cell_type": "code",
   "execution_count": 1,
   "metadata": {},
   "outputs": [],
   "source": [
    "# Calculate the accuracy of prediction cell locations"
   ]
  },
  {
   "cell_type": "code",
   "execution_count": 15,
   "metadata": {},
   "outputs": [
    {
     "name": "stdout",
     "output_type": "stream",
     "text": [
      "We Use Celltype Number 12\n",
      "We Use Celltype Number 12\n",
      "We Use Celltype Number 12\n",
      "We Use Celltype Number 12\n"
     ]
    }
   ],
   "source": [
    "PATH = 'FigureData/Figure4/Dataset7_STARmap/'\n",
    "Methods = ['Seurat','Tangram','SpaOTsc','novoSpaRc']\n",
    "outdir = PATH + 'Result_STARmap/'\n",
    "util.CalculateMetric(outdir, Methods, PATH + 'Simulated_STARmap/combined_spot_clusters.txt')  \n"
   ]
  },
  {
   "cell_type": "code",
   "execution_count": null,
   "metadata": {},
   "outputs": [],
   "source": []
  }
 ],
 "metadata": {
  "kernelspec": {
   "display_name": "Python 3",
   "language": "python",
   "name": "python3"
  },
  "language_info": {
   "codemirror_mode": {
    "name": "ipython",
    "version": 3
   },
   "file_extension": ".py",
   "mimetype": "text/x-python",
   "name": "python",
   "nbconvert_exporter": "python",
   "pygments_lexer": "ipython3",
   "version": "3.7.3"
  }
 },
 "nbformat": 4,
 "nbformat_minor": 4
}
